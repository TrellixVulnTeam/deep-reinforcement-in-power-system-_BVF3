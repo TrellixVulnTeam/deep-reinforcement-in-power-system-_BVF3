{
 "cells": [
  {
   "cell_type": "code",
   "execution_count": 1,
   "metadata": {},
   "outputs": [
    {
     "name": "stdout",
     "output_type": "stream",
     "text": [
      "2.1.0\n"
     ]
    }
   ],
   "source": [
    "from __future__ import absolute_import, division, print_function, unicode_literals, unicode_literals\n",
    "\n",
    "import pathlib\n",
    "from openpyxl import Workbook  \n",
    "import openpyxl\n",
    "import matplotlib.pyplot as plt\n",
    "import pandas as pd\n",
    "import seaborn as sns\n",
    "import xlrd\n",
    "import tensorflow as tf\n",
    "from tensorflow import keras\n",
    "from tensorflow.keras import layers\n",
    "from tensorflow.keras.layers import LeakyReLU\n",
    "print(tf.__version__)\n"
   ]
  },
  {
   "cell_type": "code",
   "execution_count": 2,
   "metadata": {},
   "outputs": [],
   "source": [
    "emp1=pd.ExcelFile(r'C:\\Users\\LG\\Desktop\\Yungun\\RE\\Result_without_voltage_500.xlsx')"
   ]
  },
  {
   "cell_type": "code",
   "execution_count": 3,
   "metadata": {},
   "outputs": [
    {
     "data": {
      "text/html": [
       "<div>\n",
       "<style scoped>\n",
       "    .dataframe tbody tr th:only-of-type {\n",
       "        vertical-align: middle;\n",
       "    }\n",
       "\n",
       "    .dataframe tbody tr th {\n",
       "        vertical-align: top;\n",
       "    }\n",
       "\n",
       "    .dataframe thead th {\n",
       "        text-align: right;\n",
       "    }\n",
       "</style>\n",
       "<table border=\"1\" class=\"dataframe\">\n",
       "  <thead>\n",
       "    <tr style=\"text-align: right;\">\n",
       "      <th></th>\n",
       "      <th>Metro</th>\n",
       "      <th>Yungnam</th>\n",
       "      <th>Chungnam</th>\n",
       "      <th>Honam</th>\n",
       "      <th>Gangwon</th>\n",
       "      <th>Frequency</th>\n",
       "    </tr>\n",
       "  </thead>\n",
       "  <tbody>\n",
       "    <tr>\n",
       "      <th>0</th>\n",
       "      <td>821</td>\n",
       "      <td>573</td>\n",
       "      <td>959</td>\n",
       "      <td>785</td>\n",
       "      <td>825</td>\n",
       "      <td>59.832407</td>\n",
       "    </tr>\n",
       "    <tr>\n",
       "      <th>1</th>\n",
       "      <td>676</td>\n",
       "      <td>644</td>\n",
       "      <td>538</td>\n",
       "      <td>678</td>\n",
       "      <td>969</td>\n",
       "      <td>59.839662</td>\n",
       "    </tr>\n",
       "    <tr>\n",
       "      <th>2</th>\n",
       "      <td>518</td>\n",
       "      <td>907</td>\n",
       "      <td>665</td>\n",
       "      <td>852</td>\n",
       "      <td>937</td>\n",
       "      <td>59.872476</td>\n",
       "    </tr>\n",
       "    <tr>\n",
       "      <th>3</th>\n",
       "      <td>572</td>\n",
       "      <td>653</td>\n",
       "      <td>545</td>\n",
       "      <td>798</td>\n",
       "      <td>900</td>\n",
       "      <td>59.837070</td>\n",
       "    </tr>\n",
       "    <tr>\n",
       "      <th>4</th>\n",
       "      <td>546</td>\n",
       "      <td>772</td>\n",
       "      <td>834</td>\n",
       "      <td>629</td>\n",
       "      <td>567</td>\n",
       "      <td>59.818859</td>\n",
       "    </tr>\n",
       "    <tr>\n",
       "      <th>...</th>\n",
       "      <td>...</td>\n",
       "      <td>...</td>\n",
       "      <td>...</td>\n",
       "      <td>...</td>\n",
       "      <td>...</td>\n",
       "      <td>...</td>\n",
       "    </tr>\n",
       "    <tr>\n",
       "      <th>495</th>\n",
       "      <td>585</td>\n",
       "      <td>859</td>\n",
       "      <td>615</td>\n",
       "      <td>649</td>\n",
       "      <td>809</td>\n",
       "      <td>59.839381</td>\n",
       "    </tr>\n",
       "    <tr>\n",
       "      <th>496</th>\n",
       "      <td>751</td>\n",
       "      <td>596</td>\n",
       "      <td>771</td>\n",
       "      <td>907</td>\n",
       "      <td>738</td>\n",
       "      <td>59.878980</td>\n",
       "    </tr>\n",
       "    <tr>\n",
       "      <th>497</th>\n",
       "      <td>941</td>\n",
       "      <td>924</td>\n",
       "      <td>996</td>\n",
       "      <td>925</td>\n",
       "      <td>650</td>\n",
       "      <td>59.773433</td>\n",
       "    </tr>\n",
       "    <tr>\n",
       "      <th>498</th>\n",
       "      <td>999</td>\n",
       "      <td>993</td>\n",
       "      <td>672</td>\n",
       "      <td>543</td>\n",
       "      <td>692</td>\n",
       "      <td>59.873778</td>\n",
       "    </tr>\n",
       "    <tr>\n",
       "      <th>499</th>\n",
       "      <td>512</td>\n",
       "      <td>950</td>\n",
       "      <td>560</td>\n",
       "      <td>966</td>\n",
       "      <td>567</td>\n",
       "      <td>59.839155</td>\n",
       "    </tr>\n",
       "  </tbody>\n",
       "</table>\n",
       "<p>500 rows × 6 columns</p>\n",
       "</div>"
      ],
      "text/plain": [
       "     Metro  Yungnam  Chungnam  Honam  Gangwon  Frequency\n",
       "0      821      573       959    785      825  59.832407\n",
       "1      676      644       538    678      969  59.839662\n",
       "2      518      907       665    852      937  59.872476\n",
       "3      572      653       545    798      900  59.837070\n",
       "4      546      772       834    629      567  59.818859\n",
       "..     ...      ...       ...    ...      ...        ...\n",
       "495    585      859       615    649      809  59.839381\n",
       "496    751      596       771    907      738  59.878980\n",
       "497    941      924       996    925      650  59.773433\n",
       "498    999      993       672    543      692  59.873778\n",
       "499    512      950       560    966      567  59.839155\n",
       "\n",
       "[500 rows x 6 columns]"
      ]
     },
     "execution_count": 3,
     "metadata": {},
     "output_type": "execute_result"
    }
   ],
   "source": [
    "dataset=emp1.parse('Sheet1')\n",
    "dataset"
   ]
  },
  {
   "cell_type": "code",
   "execution_count": 4,
   "metadata": {},
   "outputs": [],
   "source": [
    "train_dataset = dataset.sample(frac=0.8,random_state=30) #80퍼센트 정보를 랜덤하게 가져옴\n",
    "test_dataset = dataset.drop(train_dataset.index)"
   ]
  },
  {
   "cell_type": "code",
   "execution_count": 5,
   "metadata": {},
   "outputs": [
    {
     "data": {
      "text/html": [
       "<div>\n",
       "<style scoped>\n",
       "    .dataframe tbody tr th:only-of-type {\n",
       "        vertical-align: middle;\n",
       "    }\n",
       "\n",
       "    .dataframe tbody tr th {\n",
       "        vertical-align: top;\n",
       "    }\n",
       "\n",
       "    .dataframe thead th {\n",
       "        text-align: right;\n",
       "    }\n",
       "</style>\n",
       "<table border=\"1\" class=\"dataframe\">\n",
       "  <thead>\n",
       "    <tr style=\"text-align: right;\">\n",
       "      <th></th>\n",
       "      <th>count</th>\n",
       "      <th>mean</th>\n",
       "      <th>std</th>\n",
       "      <th>min</th>\n",
       "      <th>25%</th>\n",
       "      <th>50%</th>\n",
       "      <th>75%</th>\n",
       "      <th>max</th>\n",
       "    </tr>\n",
       "  </thead>\n",
       "  <tbody>\n",
       "    <tr>\n",
       "      <th>Metro</th>\n",
       "      <td>400.0</td>\n",
       "      <td>747.5325</td>\n",
       "      <td>141.212788</td>\n",
       "      <td>500.0</td>\n",
       "      <td>626.00</td>\n",
       "      <td>743.5</td>\n",
       "      <td>856.75</td>\n",
       "      <td>1000.0</td>\n",
       "    </tr>\n",
       "    <tr>\n",
       "      <th>Yungnam</th>\n",
       "      <td>400.0</td>\n",
       "      <td>748.5725</td>\n",
       "      <td>142.421837</td>\n",
       "      <td>500.0</td>\n",
       "      <td>619.00</td>\n",
       "      <td>752.5</td>\n",
       "      <td>872.00</td>\n",
       "      <td>1000.0</td>\n",
       "    </tr>\n",
       "    <tr>\n",
       "      <th>Chungnam</th>\n",
       "      <td>400.0</td>\n",
       "      <td>747.5925</td>\n",
       "      <td>144.378094</td>\n",
       "      <td>500.0</td>\n",
       "      <td>614.00</td>\n",
       "      <td>754.0</td>\n",
       "      <td>870.00</td>\n",
       "      <td>1000.0</td>\n",
       "    </tr>\n",
       "    <tr>\n",
       "      <th>Honam</th>\n",
       "      <td>400.0</td>\n",
       "      <td>741.1775</td>\n",
       "      <td>141.849071</td>\n",
       "      <td>500.0</td>\n",
       "      <td>619.00</td>\n",
       "      <td>741.5</td>\n",
       "      <td>868.50</td>\n",
       "      <td>999.0</td>\n",
       "    </tr>\n",
       "    <tr>\n",
       "      <th>Gangwon</th>\n",
       "      <td>400.0</td>\n",
       "      <td>742.7950</td>\n",
       "      <td>146.469575</td>\n",
       "      <td>500.0</td>\n",
       "      <td>611.75</td>\n",
       "      <td>738.5</td>\n",
       "      <td>878.00</td>\n",
       "      <td>998.0</td>\n",
       "    </tr>\n",
       "  </tbody>\n",
       "</table>\n",
       "</div>"
      ],
      "text/plain": [
       "          count      mean         std    min     25%    50%     75%     max\n",
       "Metro     400.0  747.5325  141.212788  500.0  626.00  743.5  856.75  1000.0\n",
       "Yungnam   400.0  748.5725  142.421837  500.0  619.00  752.5  872.00  1000.0\n",
       "Chungnam  400.0  747.5925  144.378094  500.0  614.00  754.0  870.00  1000.0\n",
       "Honam     400.0  741.1775  141.849071  500.0  619.00  741.5  868.50   999.0\n",
       "Gangwon   400.0  742.7950  146.469575  500.0  611.75  738.5  878.00   998.0"
      ]
     },
     "execution_count": 5,
     "metadata": {},
     "output_type": "execute_result"
    }
   ],
   "source": [
    "train_stats = train_dataset.describe()\n",
    "train_stats.pop(\"Frequency\")\n",
    "train_stats = train_stats.transpose()\n",
    "train_stats"
   ]
  },
  {
   "cell_type": "code",
   "execution_count": 6,
   "metadata": {},
   "outputs": [],
   "source": [
    "train_labels = train_dataset.pop('Frequency') #Frequency\n",
    "test_labels = test_dataset.pop('Frequency')"
   ]
  },
  {
   "cell_type": "code",
   "execution_count": 7,
   "metadata": {
    "scrolled": true
   },
   "outputs": [
    {
     "data": {
      "text/html": [
       "<div>\n",
       "<style scoped>\n",
       "    .dataframe tbody tr th:only-of-type {\n",
       "        vertical-align: middle;\n",
       "    }\n",
       "\n",
       "    .dataframe tbody tr th {\n",
       "        vertical-align: top;\n",
       "    }\n",
       "\n",
       "    .dataframe thead th {\n",
       "        text-align: right;\n",
       "    }\n",
       "</style>\n",
       "<table border=\"1\" class=\"dataframe\">\n",
       "  <thead>\n",
       "    <tr style=\"text-align: right;\">\n",
       "      <th></th>\n",
       "      <th>Metro</th>\n",
       "      <th>Yungnam</th>\n",
       "      <th>Chungnam</th>\n",
       "      <th>Honam</th>\n",
       "      <th>Gangwon</th>\n",
       "    </tr>\n",
       "  </thead>\n",
       "  <tbody>\n",
       "    <tr>\n",
       "      <th>21</th>\n",
       "      <td>928</td>\n",
       "      <td>599</td>\n",
       "      <td>610</td>\n",
       "      <td>758</td>\n",
       "      <td>859</td>\n",
       "    </tr>\n",
       "    <tr>\n",
       "      <th>239</th>\n",
       "      <td>948</td>\n",
       "      <td>978</td>\n",
       "      <td>879</td>\n",
       "      <td>925</td>\n",
       "      <td>886</td>\n",
       "    </tr>\n",
       "    <tr>\n",
       "      <th>103</th>\n",
       "      <td>629</td>\n",
       "      <td>840</td>\n",
       "      <td>597</td>\n",
       "      <td>510</td>\n",
       "      <td>600</td>\n",
       "    </tr>\n",
       "    <tr>\n",
       "      <th>273</th>\n",
       "      <td>998</td>\n",
       "      <td>901</td>\n",
       "      <td>678</td>\n",
       "      <td>651</td>\n",
       "      <td>850</td>\n",
       "    </tr>\n",
       "    <tr>\n",
       "      <th>22</th>\n",
       "      <td>954</td>\n",
       "      <td>701</td>\n",
       "      <td>892</td>\n",
       "      <td>565</td>\n",
       "      <td>714</td>\n",
       "    </tr>\n",
       "    <tr>\n",
       "      <th>...</th>\n",
       "      <td>...</td>\n",
       "      <td>...</td>\n",
       "      <td>...</td>\n",
       "      <td>...</td>\n",
       "      <td>...</td>\n",
       "    </tr>\n",
       "    <tr>\n",
       "      <th>246</th>\n",
       "      <td>757</td>\n",
       "      <td>708</td>\n",
       "      <td>893</td>\n",
       "      <td>847</td>\n",
       "      <td>785</td>\n",
       "    </tr>\n",
       "    <tr>\n",
       "      <th>336</th>\n",
       "      <td>808</td>\n",
       "      <td>950</td>\n",
       "      <td>750</td>\n",
       "      <td>575</td>\n",
       "      <td>585</td>\n",
       "    </tr>\n",
       "    <tr>\n",
       "      <th>108</th>\n",
       "      <td>629</td>\n",
       "      <td>610</td>\n",
       "      <td>735</td>\n",
       "      <td>867</td>\n",
       "      <td>929</td>\n",
       "    </tr>\n",
       "    <tr>\n",
       "      <th>311</th>\n",
       "      <td>975</td>\n",
       "      <td>571</td>\n",
       "      <td>536</td>\n",
       "      <td>784</td>\n",
       "      <td>917</td>\n",
       "    </tr>\n",
       "    <tr>\n",
       "      <th>476</th>\n",
       "      <td>569</td>\n",
       "      <td>921</td>\n",
       "      <td>665</td>\n",
       "      <td>646</td>\n",
       "      <td>997</td>\n",
       "    </tr>\n",
       "  </tbody>\n",
       "</table>\n",
       "<p>400 rows × 5 columns</p>\n",
       "</div>"
      ],
      "text/plain": [
       "     Metro  Yungnam  Chungnam  Honam  Gangwon\n",
       "21     928      599       610    758      859\n",
       "239    948      978       879    925      886\n",
       "103    629      840       597    510      600\n",
       "273    998      901       678    651      850\n",
       "22     954      701       892    565      714\n",
       "..     ...      ...       ...    ...      ...\n",
       "246    757      708       893    847      785\n",
       "336    808      950       750    575      585\n",
       "108    629      610       735    867      929\n",
       "311    975      571       536    784      917\n",
       "476    569      921       665    646      997\n",
       "\n",
       "[400 rows x 5 columns]"
      ]
     },
     "execution_count": 7,
     "metadata": {},
     "output_type": "execute_result"
    }
   ],
   "source": [
    "train_dataset"
   ]
  },
  {
   "cell_type": "code",
   "execution_count": 8,
   "metadata": {},
   "outputs": [],
   "source": [
    "def norm(x):\n",
    "    return (x - train_stats['mean']) / train_stats['std']     #std =standard deviation 표준편차 \n",
    "normed_train_data = norm(train_dataset)\n",
    "normed_test_data = norm(test_dataset)\n"
   ]
  },
  {
   "cell_type": "code",
   "execution_count": 9,
   "metadata": {},
   "outputs": [],
   "source": [
    "def build_model():\n",
    "    model = keras.Sequential([\n",
    "        layers.Dense(10, activation='relu', input_shape=[len(train_dataset.keys())]),\n",
    "        layers.Dropout(0.3),\n",
    "        \n",
    "        layers.Dense(7, activation='relu'),\n",
    "        \n",
    "        layers.Dense(1)\n",
    "        ])\n",
    "    optimizer = tf.keras.optimizers.RMSprop(0.001)\n",
    "    \n",
    "    model.compile(loss='mse',\n",
    "                  optimizer=optimizer,\n",
    "                  metrics=['mae', 'mse','accuracy',])\n",
    "    return model"
   ]
  },
  {
   "cell_type": "code",
   "execution_count": 10,
   "metadata": {},
   "outputs": [],
   "source": [
    "model = build_model()"
   ]
  },
  {
   "cell_type": "code",
   "execution_count": 11,
   "metadata": {},
   "outputs": [
    {
     "name": "stdout",
     "output_type": "stream",
     "text": [
      "Model: \"sequential\"\n",
      "_________________________________________________________________\n",
      "Layer (type)                 Output Shape              Param #   \n",
      "=================================================================\n",
      "dense (Dense)                (None, 10)                60        \n",
      "_________________________________________________________________\n",
      "dropout (Dropout)            (None, 10)                0         \n",
      "_________________________________________________________________\n",
      "dense_1 (Dense)              (None, 7)                 77        \n",
      "_________________________________________________________________\n",
      "dense_2 (Dense)              (None, 1)                 8         \n",
      "=================================================================\n",
      "Total params: 145\n",
      "Trainable params: 145\n",
      "Non-trainable params: 0\n",
      "_________________________________________________________________\n"
     ]
    }
   ],
   "source": [
    "model.summary()"
   ]
  },
  {
   "cell_type": "code",
   "execution_count": 12,
   "metadata": {},
   "outputs": [
    {
     "name": "stdout",
     "output_type": "stream",
     "text": [
      "\n",
      "....................................................................................................\n",
      "....................................................................................................\n",
      "....................................................................................................\n",
      "....................................................................................................\n",
      "....................................................................................................\n",
      "....................................................................................................\n",
      "....................................................................................................\n",
      "....................................................................................................\n",
      "....................................................................................................\n",
      "...................................................................................................."
     ]
    }
   ],
   "source": [
    "class PrintDot(keras.callbacks.Callback):\n",
    "    def on_epoch_end(self, epoch, logs):\n",
    "        if epoch % 100 == 0: print('')\n",
    "        print('.', end='')\n",
    "\n",
    "EPOCHS = 1000\n",
    "# validation_split 은 20퍼센트가 tsst가 된다\n",
    "history = model.fit(\n",
    "    normed_train_data, train_labels,\n",
    "    epochs=EPOCHS, validation_split = 0.2, verbose=0,\n",
    "    callbacks=[PrintDot()])"
   ]
  },
  {
   "cell_type": "code",
   "execution_count": 13,
   "metadata": {},
   "outputs": [
    {
     "data": {
      "text/html": [
       "<div>\n",
       "<style scoped>\n",
       "    .dataframe tbody tr th:only-of-type {\n",
       "        vertical-align: middle;\n",
       "    }\n",
       "\n",
       "    .dataframe tbody tr th {\n",
       "        vertical-align: top;\n",
       "    }\n",
       "\n",
       "    .dataframe thead th {\n",
       "        text-align: right;\n",
       "    }\n",
       "</style>\n",
       "<table border=\"1\" class=\"dataframe\">\n",
       "  <thead>\n",
       "    <tr style=\"text-align: right;\">\n",
       "      <th></th>\n",
       "      <th>loss</th>\n",
       "      <th>mae</th>\n",
       "      <th>mse</th>\n",
       "      <th>accuracy</th>\n",
       "      <th>val_loss</th>\n",
       "      <th>val_mae</th>\n",
       "      <th>val_mse</th>\n",
       "      <th>val_accuracy</th>\n",
       "      <th>epoch</th>\n",
       "    </tr>\n",
       "  </thead>\n",
       "  <tbody>\n",
       "    <tr>\n",
       "      <th>995</th>\n",
       "      <td>0.150825</td>\n",
       "      <td>0.095307</td>\n",
       "      <td>0.150825</td>\n",
       "      <td>0.0</td>\n",
       "      <td>0.016034</td>\n",
       "      <td>0.076568</td>\n",
       "      <td>0.016034</td>\n",
       "      <td>0.0</td>\n",
       "      <td>995</td>\n",
       "    </tr>\n",
       "    <tr>\n",
       "      <th>996</th>\n",
       "      <td>0.150813</td>\n",
       "      <td>0.095611</td>\n",
       "      <td>0.150813</td>\n",
       "      <td>0.0</td>\n",
       "      <td>0.015957</td>\n",
       "      <td>0.074905</td>\n",
       "      <td>0.015957</td>\n",
       "      <td>0.0</td>\n",
       "      <td>996</td>\n",
       "    </tr>\n",
       "    <tr>\n",
       "      <th>997</th>\n",
       "      <td>0.150783</td>\n",
       "      <td>0.094708</td>\n",
       "      <td>0.150783</td>\n",
       "      <td>0.0</td>\n",
       "      <td>0.015955</td>\n",
       "      <td>0.074838</td>\n",
       "      <td>0.015955</td>\n",
       "      <td>0.0</td>\n",
       "      <td>997</td>\n",
       "    </tr>\n",
       "    <tr>\n",
       "      <th>998</th>\n",
       "      <td>0.151032</td>\n",
       "      <td>0.092644</td>\n",
       "      <td>0.151032</td>\n",
       "      <td>0.0</td>\n",
       "      <td>0.015972</td>\n",
       "      <td>0.075273</td>\n",
       "      <td>0.015972</td>\n",
       "      <td>0.0</td>\n",
       "      <td>998</td>\n",
       "    </tr>\n",
       "    <tr>\n",
       "      <th>999</th>\n",
       "      <td>0.150833</td>\n",
       "      <td>0.093379</td>\n",
       "      <td>0.150833</td>\n",
       "      <td>0.0</td>\n",
       "      <td>0.016032</td>\n",
       "      <td>0.076539</td>\n",
       "      <td>0.016032</td>\n",
       "      <td>0.0</td>\n",
       "      <td>999</td>\n",
       "    </tr>\n",
       "  </tbody>\n",
       "</table>\n",
       "</div>"
      ],
      "text/plain": [
       "         loss       mae       mse  accuracy  val_loss   val_mae   val_mse  \\\n",
       "995  0.150825  0.095307  0.150825       0.0  0.016034  0.076568  0.016034   \n",
       "996  0.150813  0.095611  0.150813       0.0  0.015957  0.074905  0.015957   \n",
       "997  0.150783  0.094708  0.150783       0.0  0.015955  0.074838  0.015955   \n",
       "998  0.151032  0.092644  0.151032       0.0  0.015972  0.075273  0.015972   \n",
       "999  0.150833  0.093379  0.150833       0.0  0.016032  0.076539  0.016032   \n",
       "\n",
       "     val_accuracy  epoch  \n",
       "995           0.0    995  \n",
       "996           0.0    996  \n",
       "997           0.0    997  \n",
       "998           0.0    998  \n",
       "999           0.0    999  "
      ]
     },
     "execution_count": 13,
     "metadata": {},
     "output_type": "execute_result"
    }
   ],
   "source": [
    "hist = pd.DataFrame(history.history)\n",
    "hist['epoch'] = history.epoch\n",
    "hist.tail()"
   ]
  },
  {
   "cell_type": "code",
   "execution_count": 14,
   "metadata": {},
   "outputs": [
    {
     "data": {
      "image/png": "[encoded data removed]",
      "text/plain": [
       "<Figure size 576x864 with 2 Axes>"
      ]
     },
     "metadata": {
      "needs_background": "light"
     },
     "output_type": "display_data"
    }
   ],
   "source": [
    "import matplotlib.pyplot as plt\n",
    "\n",
    "def plot_history(history):\n",
    "    hist = pd.DataFrame(history.history)\n",
    "    hist['epoch'] = history.epoch\n",
    "    \n",
    "    plt.figure(figsize=(8,12))\n",
    "    plt.subplot(2,1,1)\n",
    "    plt.xlabel('Epoch')\n",
    "    plt.ylabel('Mean Abs Error [Frequency]')\n",
    "    plt.plot(hist['epoch'], hist['mae'],label='Train Error')\n",
    "    plt.plot(hist['epoch'], hist['val_mae'],label = 'Val Error')\n",
    "    plt.ylim([0,5])\n",
    "    plt.legend()\n",
    "    \n",
    "    plt.subplot(2,1,2)\n",
    "    plt.xlabel('Epoch')\n",
    "    plt.ylabel('Mean Square Error [$Frequency^2$]')\n",
    "    \n",
    "    plt.plot(hist['epoch'], hist['mse'], label='Train Error')\n",
    "    plt.plot(hist['epoch'], hist['val_mse'], label = 'Val Error')\n",
    "    plt.ylim([0,20])\n",
    "    plt.legend()\n",
    "    plt.show()\n",
    "\n",
    "plot_history(history)"
   ]
  },
  {
   "cell_type": "code",
   "execution_count": 40,
   "metadata": {
    "scrolled": true
   },
   "outputs": [
    {
     "name": "stdout",
     "output_type": "stream",
     "text": [
      "WARNING:tensorflow:Falling back from v2 loop because of error: Failed to find data adapter that can handle input: <class 'pandas.core.frame.DataFrame'>, <class 'NoneType'>\n",
      "\n",
      "....................................................................................................\n",
      "..................................................................................."
     ]
    },
    {
     "data": {
      "image/png": "[encoded data removed]",
      "text/plain": [
       "<Figure size 576x864 with 2 Axes>"
      ]
     },
     "metadata": {
      "needs_background": "light"
     },
     "output_type": "display_data"
    }
   ],
   "source": [
    "model = build_model()\n",
    "\n",
    "# patience 매개변수는 성능 향상을 체크할 에포크 횟수입니다\n",
    "early_stop = keras.callbacks.EarlyStopping(monitor='val_loss', patience=10)\n",
    "\n",
    "history = model.fit(normed_train_data, train_labels, epochs=EPOCHS,\n",
    "                    validation_split = 0.2, verbose=0, callbacks=[early_stop, PrintDot()])\n",
    "\n",
    "plot_history(history)"
   ]
  },
  {
   "cell_type": "code",
   "execution_count": 15,
   "metadata": {
    "scrolled": true
   },
   "outputs": [
    {
     "name": "stdout",
     "output_type": "stream",
     "text": [
      "100/100 - 0s - loss: 0.0486 - mae: 0.1009 - mse: 0.0486 - accuracy: 0.0000e+00\n",
      "테스트 세트의 평균 절대 오차:  0.10 Frequency\n"
     ]
    }
   ],
   "source": [
    "loss, mae, mse , accuracy = model.evaluate(normed_test_data, test_labels, verbose=2)\n",
    "\n",
    "print(\"테스트 세트의 평균 절대 오차: {:5.2f} Frequency\".format(mae))"
   ]
  },
  {
   "cell_type": "code",
   "execution_count": 16,
   "metadata": {},
   "outputs": [
    {
     "data": {
      "image/png": "[encoded data removed]",
      "text/plain": [
       "<Figure size 432x288 with 1 Axes>"
      ]
     },
     "metadata": {
      "needs_background": "light"
     },
     "output_type": "display_data"
    }
   ],
   "source": [
    "test_predictions = model.predict(normed_test_data).flatten()\n",
    "\n",
    "plt.scatter(test_labels, test_predictions)\n",
    "plt.xlabel('True Values [Frequency]')\n",
    "plt.ylabel('Predictions [Frequency]')\n",
    "plt.axis('equal')\n",
    "plt.axis('square')\n",
    "plt.xlim([59,60.1])\n",
    "plt.ylim([59,60.1])\n",
    "_ = plt.plot([-1000, 1000], [-1000, 1000])\n"
   ]
  },
  {
   "cell_type": "code",
   "execution_count": 44,
   "metadata": {},
   "outputs": [
    {
     "name": "stdout",
     "output_type": "stream",
     "text": [
      "9      59.817591\n",
      "11     59.748993\n",
      "15     59.770735\n",
      "16     59.750117\n",
      "18     59.869273\n",
      "         ...    \n",
      "479    59.336271\n",
      "490    59.781732\n",
      "494    59.826743\n",
      "497    59.773433\n",
      "498    59.873778\n",
      "Name: Frequency, Length: 100, dtype: float64 [59.66686  59.63653  59.600765 59.614967 59.656033 59.655525 59.603355\n",
      " 59.65554  59.61703  59.644905 59.64013  59.65235  59.641273 59.642574\n",
      " 59.620537 59.658703 59.64932  59.6537   59.64603  59.66101  59.627277\n",
      " 59.653324 59.61026  59.65372  59.625065 59.63533  59.61543  59.6417\n",
      " 59.612465 59.64921  59.61652  59.67182  59.600246 59.622894 59.618565\n",
      " 59.67119  59.65407  59.653824 59.65997  59.630768 59.650364 59.61412\n",
      " 59.61405  59.585155 59.588177 59.636375 59.664288 59.660183 59.675014\n",
      " 59.661674 59.64104  59.633095 59.59753  59.657288 59.607994 59.664574\n",
      " 59.627495 59.662193 59.650974 59.66708  59.651203 59.66484  59.6691\n",
      " 59.675816 59.64814  59.596233 59.650948 59.61764  59.66927  59.66772\n",
      " 59.643116 59.608715 59.60946  59.62555  59.60633  59.65111  59.663544\n",
      " 59.668987 59.657158 59.669933 59.64929  59.64295  59.646793 59.66365\n",
      " 59.62525  59.648872 59.60453  59.65921  59.643375 59.653263 59.61836\n",
      " 59.594116 59.600807 59.613678 59.662117 59.636322 59.594574 59.66625\n",
      " 59.58471  59.63682 ]\n"
     ]
    }
   ],
   "source": [
    "print(test_labels, test_predictions)"
   ]
  },
  {
   "cell_type": "code",
   "execution_count": 22,
   "metadata": {},
   "outputs": [
    {
     "name": "stdout",
     "output_type": "stream",
     "text": [
      "[59.76182  59.699844 59.70872  59.72465  59.754475 59.475567 59.711132\n",
      " 59.845856 60.242424 59.3172   59.72208  59.734188 60.31131  59.686924\n",
      " 59.747147 59.71397  59.674305 59.769726 59.749817 59.775204 59.708065\n",
      " 59.312717 59.86808  59.74434  60.051586 59.662426 59.574013 59.75394\n",
      " 59.754906 59.945694 59.66027  59.731834 59.458557 59.77832  59.71023\n",
      " 59.51312  59.516083 59.7961   59.72531  59.79506  59.855015 59.773144\n",
      " 59.7936   59.71411  59.811268 59.62182  59.733543 59.73543  59.661617\n",
      " 59.744583 59.608475 59.893574 59.682426 59.686054 59.701214 59.615902\n",
      " 59.72284  59.788567 59.649437 60.40161  59.781578 59.208027 59.732292\n",
      " 59.782894 59.768112 59.798744 59.75571  59.778725 59.48884  59.78979\n",
      " 59.662136 59.545498 59.729332 59.76761  59.394913 59.90581  59.70374\n",
      " 59.659645 60.13409  59.729145 59.70376  59.738277 59.724823 59.751274\n",
      " 59.30717  59.776344 59.829784 59.45952  59.89835  59.55851  59.77161\n",
      " 59.696335 59.762306 59.743893 60.104847 60.080585 59.720486 59.79745\n",
      " 59.661327 59.98597 ]\n"
     ]
    }
   ],
   "source": [
    "print()"
   ]
  },
  {
   "cell_type": "code",
   "execution_count": 139,
   "metadata": {},
   "outputs": [
    {
     "data": {
      "image/png": "[encoded data removed]",
      "text/plain": [
       "<Figure size 432x288 with 1 Axes>"
      ]
     },
     "metadata": {
      "needs_background": "light"
     },
     "output_type": "display_data"
    }
   ],
   "source": [
    "error = test_predictions - test_labels\n",
    "plt.hist(error, bins = 100\n",
    "        )\n",
    "plt.xlabel(\"Prediction Error [Frequency]\")\n",
    "_ = plt.ylabel(\"Count\")"
   ]
  },
  {
   "cell_type": "code",
   "execution_count": null,
   "metadata": {},
   "outputs": [],
   "source": []
  }
 ],
 "metadata": {
  "kernelspec": {
   "display_name": "Python 3",
   "language": "python",
   "name": "python3"
  },
  "language_info": {
   "codemirror_mode": {
    "name": "ipython",
    "version": 3
   },
   "file_extension": ".py",
   "mimetype": "text/x-python",
   "name": "python",
   "nbconvert_exporter": "python",
   "pygments_lexer": "ipython3",
   "version": "3.7.4"
  }
 },
 "nbformat": 4,
 "nbformat_minor": 4
}
