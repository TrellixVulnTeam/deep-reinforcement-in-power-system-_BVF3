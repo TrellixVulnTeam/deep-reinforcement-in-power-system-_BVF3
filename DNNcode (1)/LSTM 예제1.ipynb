{
 "cells": [
  {
   "cell_type": "code",
   "execution_count": 1,
   "metadata": {},
   "outputs": [
    {
     "data": {
      "text/plain": [
       "array([60. , 59.9, 59.8, 59.6], dtype=float32)"
      ]
     },
     "execution_count": 1,
     "metadata": {},
     "output_type": "execute_result"
    }
   ],
   "source": [
    "from numpy import array\n",
    "import numpy as np\n",
    "import tensorflow as tf\n",
    "from tensorflow import keras\n",
    "from tensorflow.keras import layers\n",
    "from tensorflow.keras.models import Sequential\n",
    "from tensorflow.keras.layers import Dense, LSTM\n",
    " \n",
    "# 1. 데이터\n",
    "x = array([[230, 2048, 114, 4107, 266, 87639.24219], [230,2048,114,4107,266,87639.24219], [230,2048,114,4107,266,87639.24219], [230,2048,114,4107,266,87639.24219]])\n",
    "x.astype(np.float32)\n",
    "y = array([60,59.9,59.8,59.6])\n",
    "y.astype(np.float32)"
   ]
  },
  {
   "cell_type": "code",
   "execution_count": 2,
   "metadata": {},
   "outputs": [
    {
     "name": "stdout",
     "output_type": "stream",
     "text": [
      "x shape :  (4, 6)\n",
      "y shape :  (4,)\n"
     ]
    }
   ],
   "source": [
    "print('x shape : ', x.shape) # (4,3)\n",
    "print('y shape : ', y.shape) # (4,)\n",
    "#  x  y\n",
    "# 123 4\n",
    "# 234 5\n",
    "# 345 6\n",
    "# 456 7"
   ]
  },
  {
   "cell_type": "code",
   "execution_count": 3,
   "metadata": {},
   "outputs": [
    {
     "name": "stdout",
     "output_type": "stream",
     "text": [
      "[[  230.       2048.        114.       4107.        266.      87639.24219]\n",
      " [  230.       2048.        114.       4107.        266.      87639.24219]\n",
      " [  230.       2048.        114.       4107.        266.      87639.24219]\n",
      " [  230.       2048.        114.       4107.        266.      87639.24219]]\n",
      "-------x reshape-----------\n",
      "x shape :  (4, 6, 1)\n",
      "[[[  230.     ]\n",
      "  [ 2048.     ]\n",
      "  [  114.     ]\n",
      "  [ 4107.     ]\n",
      "  [  266.     ]\n",
      "  [87639.24219]]\n",
      "\n",
      " [[  230.     ]\n",
      "  [ 2048.     ]\n",
      "  [  114.     ]\n",
      "  [ 4107.     ]\n",
      "  [  266.     ]\n",
      "  [87639.24219]]\n",
      "\n",
      " [[  230.     ]\n",
      "  [ 2048.     ]\n",
      "  [  114.     ]\n",
      "  [ 4107.     ]\n",
      "  [  266.     ]\n",
      "  [87639.24219]]\n",
      "\n",
      " [[  230.     ]\n",
      "  [ 2048.     ]\n",
      "  [  114.     ]\n",
      "  [ 4107.     ]\n",
      "  [  266.     ]\n",
      "  [87639.24219]]]\n"
     ]
    }
   ],
   "source": [
    "print(x)\n",
    "print('-------x reshape-----------')\n",
    "x = x.reshape((x.shape[0], x.shape[1], 1)) # (4,3,1) reshape 전체 곱 수 같아야 4*3=4*3*1\n",
    "print('x shape : ', x.shape)\n",
    "print(x)\n",
    "#  x        y\n",
    "# [1][2][3] 4\n",
    "# ....."
   ]
  },
  {
   "cell_type": "code",
   "execution_count": 24,
   "metadata": {},
   "outputs": [
    {
     "name": "stdout",
     "output_type": "stream",
     "text": [
      "Model: \"sequential_6\"\n",
      "_________________________________________________________________\n",
      "Layer (type)                 Output Shape              Param #   \n",
      "=================================================================\n",
      "lstm_6 (LSTM)                (None, 10)                480       \n",
      "_________________________________________________________________\n",
      "dense_12 (Dense)             (None, 10)                110       \n",
      "_________________________________________________________________\n",
      "dense_13 (Dense)             (None, 1)                 11        \n",
      "=================================================================\n",
      "Total params: 601\n",
      "Trainable params: 601\n",
      "Non-trainable params: 0\n",
      "_________________________________________________________________\n"
     ]
    }
   ],
   "source": [
    "# 2. 모델 구성\n",
    "model = Sequential()\n",
    "model.add(LSTM(10, activation = 'relu', input_shape=(6,1)))\n",
    "# DENSE와 사용법 동일하나 input_shape=(열, 몇개씩잘라작업)\n",
    "model.add(Dense(10))\n",
    "model.add(Dense(1))\n",
    " \n",
    "model.summary()"
   ]
  },
  {
   "cell_type": "code",
   "execution_count": 25,
   "metadata": {},
   "outputs": [
    {
     "name": "stdout",
     "output_type": "stream",
     "text": [
      "Train on 4 samples\n",
      "Epoch 1/100\n",
      "4/4 [==============================] - 1s 341ms/sample - loss: 4534128.1875\n",
      "Epoch 2/100\n",
      "4/4 [==============================] - 0s 4ms/sample - loss: 1772023.9219\n",
      "Epoch 3/100\n",
      "4/4 [==============================] - 0s 5ms/sample - loss: 362237.8223\n",
      "Epoch 4/100\n",
      "4/4 [==============================] - 0s 5ms/sample - loss: 25559.3701\n",
      "Epoch 5/100\n",
      "4/4 [==============================] - 0s 4ms/sample - loss: 207481.1309\n",
      "Epoch 6/100\n",
      "4/4 [==============================] - 0s 5ms/sample - loss: 329634.8984\n",
      "Epoch 7/100\n",
      "4/4 [==============================] - 0s 4ms/sample - loss: 243207.3438\n",
      "Epoch 8/100\n",
      "4/4 [==============================] - 0s 5ms/sample - loss: 89398.2695\n",
      "Epoch 9/100\n",
      "4/4 [==============================] - 0s 4ms/sample - loss: 8263.3889\n",
      "Epoch 10/100\n",
      "4/4 [==============================] - 0s 5ms/sample - loss: 11954.9722\n",
      "Epoch 11/100\n",
      "4/4 [==============================] - 0s 5ms/sample - loss: 34978.4150\n",
      "Epoch 12/100\n",
      "4/4 [==============================] - 0s 5ms/sample - loss: 33106.7065\n",
      "Epoch 13/100\n",
      "4/4 [==============================] - 0s 5ms/sample - loss: 13917.4742\n",
      "Epoch 14/100\n",
      "4/4 [==============================] - 0s 4ms/sample - loss: 1420.3909\n",
      "Epoch 15/100\n",
      "4/4 [==============================] - 0s 5ms/sample - loss: 1794.2372\n",
      "Epoch 16/100\n",
      "4/4 [==============================] - 0s 4ms/sample - loss: 5108.6521\n",
      "Epoch 17/100\n",
      "4/4 [==============================] - 0s 4ms/sample - loss: 4189.3012\n",
      "Epoch 18/100\n",
      "4/4 [==============================] - 0s 4ms/sample - loss: 1220.0683\n",
      "Epoch 19/100\n",
      "4/4 [==============================] - 0s 4ms/sample - loss: 77.4415\n",
      "Epoch 20/100\n",
      "4/4 [==============================] - 0s 4ms/sample - loss: 603.7587\n",
      "Epoch 21/100\n",
      "4/4 [==============================] - 0s 4ms/sample - loss: 834.0370\n",
      "Epoch 22/100\n",
      "4/4 [==============================] - 0s 4ms/sample - loss: 373.2908\n",
      "Epoch 23/100\n",
      "4/4 [==============================] - 0s 4ms/sample - loss: 30.9428\n",
      "Epoch 24/100\n",
      "4/4 [==============================] - 0s 4ms/sample - loss: 77.1176\n",
      "Epoch 25/100\n",
      "4/4 [==============================] - 0s 4ms/sample - loss: 153.2516\n",
      "Epoch 26/100\n",
      "4/4 [==============================] - 0s 5ms/sample - loss: 81.9201\n",
      "Epoch 27/100\n",
      "4/4 [==============================] - 0s 4ms/sample - loss: 8.5953\n",
      "Epoch 28/100\n",
      "4/4 [==============================] - 0s 4ms/sample - loss: 13.3199\n",
      "Epoch 29/100\n",
      "4/4 [==============================] - 0s 5ms/sample - loss: 29.2552\n",
      "Epoch 30/100\n",
      "4/4 [==============================] - 0s 4ms/sample - loss: 14.9830\n",
      "Epoch 31/100\n",
      "4/4 [==============================] - 0s 4ms/sample - loss: 1.0483\n",
      "Epoch 32/100\n",
      "4/4 [==============================] - 0s 5ms/sample - loss: 3.4631\n",
      "Epoch 33/100\n",
      "4/4 [==============================] - 0s 5ms/sample - loss: 6.0206\n",
      "Epoch 34/100\n",
      "4/4 [==============================] - 0s 4ms/sample - loss: 2.3918\n",
      "Epoch 35/100\n",
      "4/4 [==============================] - 0s 4ms/sample - loss: 0.2616\n",
      "Epoch 36/100\n",
      "4/4 [==============================] - 0s 5ms/sample - loss: 1.0100\n",
      "Epoch 37/100\n",
      "4/4 [==============================] - 0s 4ms/sample - loss: 1.1572\n",
      "Epoch 38/100\n",
      "4/4 [==============================] - 0s 5ms/sample - loss: 0.3265\n",
      "Epoch 39/100\n",
      "4/4 [==============================] - 0s 4ms/sample - loss: 0.1213\n",
      "Epoch 40/100\n",
      "4/4 [==============================] - 0s 4ms/sample - loss: 0.2948\n",
      "Epoch 41/100\n",
      "4/4 [==============================] - 0s 5ms/sample - loss: 0.1941\n",
      "Epoch 42/100\n",
      "4/4 [==============================] - 0s 5ms/sample - loss: 0.0381\n",
      "Epoch 43/100\n",
      "4/4 [==============================] - 0s 5ms/sample - loss: 0.0700\n",
      "Epoch 44/100\n",
      "4/4 [==============================] - 0s 5ms/sample - loss: 0.0856\n",
      "Epoch 45/100\n",
      "4/4 [==============================] - 0s 5ms/sample - loss: 0.0345\n",
      "Epoch 46/100\n",
      "4/4 [==============================] - 0s 5ms/sample - loss: 0.0371\n",
      "Epoch 47/100\n",
      "4/4 [==============================] - 0s 4ms/sample - loss: 0.0369\n",
      "Epoch 48/100\n",
      "4/4 [==============================] - 0s 4ms/sample - loss: 0.0318\n",
      "Epoch 49/100\n",
      "4/4 [==============================] - 0s 5ms/sample - loss: 0.0222\n",
      "Epoch 50/100\n",
      "4/4 [==============================] - 0s 5ms/sample - loss: 0.0234\n",
      "Epoch 51/100\n",
      "4/4 [==============================] - 0s 5ms/sample - loss: 0.0246\n",
      "Epoch 52/100\n",
      "4/4 [==============================] - 0s 4ms/sample - loss: 0.0255\n",
      "Epoch 53/100\n",
      "4/4 [==============================] - 0s 5ms/sample - loss: 0.0239\n",
      "Epoch 54/100\n",
      "4/4 [==============================] - 0s 5ms/sample - loss: 0.0231\n",
      "Epoch 55/100\n",
      "4/4 [==============================] - 0s 4ms/sample - loss: 0.0238\n",
      "Epoch 56/100\n",
      "4/4 [==============================] - 0s 4ms/sample - loss: 0.0225\n",
      "Epoch 57/100\n",
      "4/4 [==============================] - 0s 5ms/sample - loss: 0.0247\n",
      "Epoch 58/100\n",
      "4/4 [==============================] - 0s 4ms/sample - loss: 0.0241\n",
      "Epoch 59/100\n",
      "4/4 [==============================] - 0s 4ms/sample - loss: 0.0233\n",
      "Epoch 60/100\n",
      "4/4 [==============================] - 0s 4ms/sample - loss: 0.0246\n",
      "Epoch 61/100\n",
      "4/4 [==============================] - 0s 4ms/sample - loss: 0.0250\n",
      "Epoch 62/100\n",
      "4/4 [==============================] - 0s 4ms/sample - loss: 0.0220\n",
      "Epoch 63/100\n",
      "4/4 [==============================] - 0s 5ms/sample - loss: 0.0247\n",
      "Epoch 64/100\n",
      "4/4 [==============================] - 0s 4ms/sample - loss: 0.0257\n",
      "Epoch 65/100\n",
      "4/4 [==============================] - 0s 5ms/sample - loss: 0.0270\n",
      "Epoch 66/100\n",
      "4/4 [==============================] - 0s 5ms/sample - loss: 0.0241\n",
      "Epoch 67/100\n",
      "4/4 [==============================] - 0s 6ms/sample - loss: 0.0229\n",
      "Epoch 68/100\n",
      "4/4 [==============================] - 0s 5ms/sample - loss: 0.0230\n",
      "Epoch 69/100\n",
      "4/4 [==============================] - 0s 4ms/sample - loss: 0.0232\n",
      "Epoch 70/100\n",
      "4/4 [==============================] - 0s 5ms/sample - loss: 0.0230\n",
      "Epoch 71/100\n",
      "4/4 [==============================] - 0s 6ms/sample - loss: 0.0233\n",
      "Epoch 72/100\n",
      "4/4 [==============================] - 0s 5ms/sample - loss: 0.0252\n",
      "Epoch 73/100\n",
      "4/4 [==============================] - 0s 6ms/sample - loss: 0.0254\n",
      "Epoch 74/100\n",
      "4/4 [==============================] - 0s 5ms/sample - loss: 0.0242\n",
      "Epoch 75/100\n",
      "4/4 [==============================] - 0s 5ms/sample - loss: 0.0236\n",
      "Epoch 76/100\n",
      "4/4 [==============================] - 0s 5ms/sample - loss: 0.0231\n",
      "Epoch 77/100\n",
      "4/4 [==============================] - 0s 6ms/sample - loss: 0.0235\n",
      "Epoch 78/100\n",
      "4/4 [==============================] - 0s 5ms/sample - loss: 0.0253\n",
      "Epoch 79/100\n",
      "4/4 [==============================] - 0s 4ms/sample - loss: 0.0230\n",
      "Epoch 80/100\n",
      "4/4 [==============================] - 0s 4ms/sample - loss: 0.0279\n",
      "Epoch 81/100\n",
      "4/4 [==============================] - 0s 4ms/sample - loss: 0.0295\n",
      "Epoch 82/100\n",
      "4/4 [==============================] - 0s 4ms/sample - loss: 0.0237\n",
      "Epoch 83/100\n",
      "4/4 [==============================] - 0s 4ms/sample - loss: 0.0247\n",
      "Epoch 84/100\n",
      "4/4 [==============================] - 0s 4ms/sample - loss: 0.0240\n",
      "Epoch 85/100\n",
      "4/4 [==============================] - 0s 4ms/sample - loss: 0.0232\n",
      "Epoch 86/100\n",
      "4/4 [==============================] - 0s 4ms/sample - loss: 0.0230\n",
      "Epoch 87/100\n",
      "4/4 [==============================] - 0s 4ms/sample - loss: 0.0252\n",
      "Epoch 88/100\n",
      "4/4 [==============================] - 0s 4ms/sample - loss: 0.0286\n",
      "Epoch 89/100\n",
      "4/4 [==============================] - 0s 4ms/sample - loss: 0.0234\n",
      "Epoch 90/100\n",
      "4/4 [==============================] - 0s 4ms/sample - loss: 0.0215\n",
      "Epoch 91/100\n",
      "4/4 [==============================] - 0s 4ms/sample - loss: 0.0268\n",
      "Epoch 92/100\n",
      "4/4 [==============================] - 0s 4ms/sample - loss: 0.0298\n",
      "Epoch 93/100\n",
      "4/4 [==============================] - 0s 4ms/sample - loss: 0.0276\n",
      "Epoch 94/100\n",
      "4/4 [==============================] - 0s 4ms/sample - loss: 0.0305\n",
      "Epoch 95/100\n",
      "4/4 [==============================] - 0s 4ms/sample - loss: 0.0274\n",
      "Epoch 96/100\n",
      "4/4 [==============================] - 0s 4ms/sample - loss: 0.0296\n",
      "Epoch 97/100\n",
      "4/4 [==============================] - 0s 4ms/sample - loss: 0.0294\n",
      "Epoch 98/100\n",
      "4/4 [==============================] - 0s 4ms/sample - loss: 0.0233\n",
      "Epoch 99/100\n",
      "4/4 [==============================] - 0s 4ms/sample - loss: 0.0229\n",
      "Epoch 100/100\n",
      "4/4 [==============================] - 0s 4ms/sample - loss: 0.0250\n"
     ]
    },
    {
     "data": {
      "text/plain": [
       "<tensorflow.python.keras.callbacks.History at 0x22d94a71898>"
      ]
     },
     "execution_count": 25,
     "metadata": {},
     "output_type": "execute_result"
    }
   ],
   "source": [
    "# 3. 실행\n",
    "model.compile(optimizer='adam', loss='mse')\n",
    "model.fit(x, y, epochs=100, batch_size=1)"
   ]
  },
  {
   "cell_type": "code",
   "execution_count": 26,
   "metadata": {},
   "outputs": [
    {
     "data": {
      "text/plain": [
       "<tf.Tensor: id=15511, shape=(1, 6, 1), dtype=float32, numpy=\n",
       "array([[[  230.  ],\n",
       "        [ 2048.  ],\n",
       "        [  114.  ],\n",
       "        [ 4107.  ],\n",
       "        [  266.  ],\n",
       "        [87639.24]]], dtype=float32)>"
      ]
     },
     "execution_count": 26,
     "metadata": {},
     "output_type": "execute_result"
    }
   ],
   "source": [
    "x_input = array([[230,2048,114,4107,266,87639.24219]])\n",
    "x_input = x_input.reshape((1,6,1))\n",
    "x_input = tf.cast(x_input, tf.float32)\n",
    "x_input"
   ]
  },
  {
   "cell_type": "code",
   "execution_count": 27,
   "metadata": {},
   "outputs": [
    {
     "name": "stdout",
     "output_type": "stream",
     "text": [
      "[[59.837173]]\n"
     ]
    }
   ],
   "source": [
    "yhat = model.predict(x_input)\n",
    "print(yhat)\n"
   ]
  },
  {
   "cell_type": "code",
   "execution_count": null,
   "metadata": {},
   "outputs": [],
   "source": []
  }
 ],
 "metadata": {
  "kernelspec": {
   "display_name": "Python 3",
   "language": "python",
   "name": "python3"
  },
  "language_info": {
   "codemirror_mode": {
    "name": "ipython",
    "version": 3
   },
   "file_extension": ".py",
   "mimetype": "text/x-python",
   "name": "python",
   "nbconvert_exporter": "python",
   "pygments_lexer": "ipython3",
   "version": "3.6.7"
  }
 },
 "nbformat": 4,
 "nbformat_minor": 4
}
