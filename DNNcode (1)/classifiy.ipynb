{
 "cells": [
  {
   "cell_type": "code",
   "execution_count": 26,
   "metadata": {},
   "outputs": [],
   "source": [
    "from __future__ import absolute_import, division, print_function, unicode_literals\n",
    "\n",
    "import tensorflow as tf\n",
    "import pandas as pd"
   ]
  },
  {
   "cell_type": "code",
   "execution_count": 27,
   "metadata": {},
   "outputs": [],
   "source": [
    "CSV_COLUMN_NAMES = ['SepalLength', 'SepalWidth', 'PetalLength', 'PetalWidth', 'Species']\n",
    "SPECIES = ['Setosa', 'Versicolor', 'Virginica']"
   ]
  },
  {
   "cell_type": "code",
   "execution_count": 28,
   "metadata": {},
   "outputs": [],
   "source": [
    "train_path = tf.keras.utils.get_file(\n",
    "    \"iris_training.csv\", \"https://storage.googleapis.com/download.tensorflow.org/data/iris_training.csv\")\n",
    "test_path = tf.keras.utils.get_file(\n",
    "    \"iris_test.csv\", \"https://storage.googleapis.com/download.tensorflow.org/data/iris_test.csv\")\n",
    "\n",
    "train = pd.read_csv(train_path, names=CSV_COLUMN_NAMES, header=0)\n",
    "test = pd.read_csv(test_path, names=CSV_COLUMN_NAMES, header=0)"
   ]
  },
  {
   "cell_type": "code",
   "execution_count": 29,
   "metadata": {},
   "outputs": [
    {
     "data": {
      "text/html": [
       "<div>\n",
       "<style scoped>\n",
       "    .dataframe tbody tr th:only-of-type {\n",
       "        vertical-align: middle;\n",
       "    }\n",
       "\n",
       "    .dataframe tbody tr th {\n",
       "        vertical-align: top;\n",
       "    }\n",
       "\n",
       "    .dataframe thead th {\n",
       "        text-align: right;\n",
       "    }\n",
       "</style>\n",
       "<table border=\"1\" class=\"dataframe\">\n",
       "  <thead>\n",
       "    <tr style=\"text-align: right;\">\n",
       "      <th></th>\n",
       "      <th>SepalLength</th>\n",
       "      <th>SepalWidth</th>\n",
       "      <th>PetalLength</th>\n",
       "      <th>PetalWidth</th>\n",
       "      <th>Species</th>\n",
       "    </tr>\n",
       "  </thead>\n",
       "  <tbody>\n",
       "    <tr>\n",
       "      <th>0</th>\n",
       "      <td>6.4</td>\n",
       "      <td>2.8</td>\n",
       "      <td>5.6</td>\n",
       "      <td>2.2</td>\n",
       "      <td>2</td>\n",
       "    </tr>\n",
       "    <tr>\n",
       "      <th>1</th>\n",
       "      <td>5.0</td>\n",
       "      <td>2.3</td>\n",
       "      <td>3.3</td>\n",
       "      <td>1.0</td>\n",
       "      <td>1</td>\n",
       "    </tr>\n",
       "    <tr>\n",
       "      <th>2</th>\n",
       "      <td>4.9</td>\n",
       "      <td>2.5</td>\n",
       "      <td>4.5</td>\n",
       "      <td>1.7</td>\n",
       "      <td>2</td>\n",
       "    </tr>\n",
       "    <tr>\n",
       "      <th>3</th>\n",
       "      <td>4.9</td>\n",
       "      <td>3.1</td>\n",
       "      <td>1.5</td>\n",
       "      <td>0.1</td>\n",
       "      <td>0</td>\n",
       "    </tr>\n",
       "    <tr>\n",
       "      <th>4</th>\n",
       "      <td>5.7</td>\n",
       "      <td>3.8</td>\n",
       "      <td>1.7</td>\n",
       "      <td>0.3</td>\n",
       "      <td>0</td>\n",
       "    </tr>\n",
       "  </tbody>\n",
       "</table>\n",
       "</div>"
      ],
      "text/plain": [
       "   SepalLength  SepalWidth  PetalLength  PetalWidth  Species\n",
       "0          6.4         2.8          5.6         2.2        2\n",
       "1          5.0         2.3          3.3         1.0        1\n",
       "2          4.9         2.5          4.5         1.7        2\n",
       "3          4.9         3.1          1.5         0.1        0\n",
       "4          5.7         3.8          1.7         0.3        0"
      ]
     },
     "execution_count": 29,
     "metadata": {},
     "output_type": "execute_result"
    }
   ],
   "source": [
    "train.head()"
   ]
  },
  {
   "cell_type": "code",
   "execution_count": 30,
   "metadata": {},
   "outputs": [
    {
     "data": {
      "text/html": [
       "<div>\n",
       "<style scoped>\n",
       "    .dataframe tbody tr th:only-of-type {\n",
       "        vertical-align: middle;\n",
       "    }\n",
       "\n",
       "    .dataframe tbody tr th {\n",
       "        vertical-align: top;\n",
       "    }\n",
       "\n",
       "    .dataframe thead th {\n",
       "        text-align: right;\n",
       "    }\n",
       "</style>\n",
       "<table border=\"1\" class=\"dataframe\">\n",
       "  <thead>\n",
       "    <tr style=\"text-align: right;\">\n",
       "      <th></th>\n",
       "      <th>SepalLength</th>\n",
       "      <th>SepalWidth</th>\n",
       "      <th>PetalLength</th>\n",
       "      <th>PetalWidth</th>\n",
       "    </tr>\n",
       "  </thead>\n",
       "  <tbody>\n",
       "    <tr>\n",
       "      <th>0</th>\n",
       "      <td>6.4</td>\n",
       "      <td>2.8</td>\n",
       "      <td>5.6</td>\n",
       "      <td>2.2</td>\n",
       "    </tr>\n",
       "    <tr>\n",
       "      <th>1</th>\n",
       "      <td>5.0</td>\n",
       "      <td>2.3</td>\n",
       "      <td>3.3</td>\n",
       "      <td>1.0</td>\n",
       "    </tr>\n",
       "    <tr>\n",
       "      <th>2</th>\n",
       "      <td>4.9</td>\n",
       "      <td>2.5</td>\n",
       "      <td>4.5</td>\n",
       "      <td>1.7</td>\n",
       "    </tr>\n",
       "    <tr>\n",
       "      <th>3</th>\n",
       "      <td>4.9</td>\n",
       "      <td>3.1</td>\n",
       "      <td>1.5</td>\n",
       "      <td>0.1</td>\n",
       "    </tr>\n",
       "    <tr>\n",
       "      <th>4</th>\n",
       "      <td>5.7</td>\n",
       "      <td>3.8</td>\n",
       "      <td>1.7</td>\n",
       "      <td>0.3</td>\n",
       "    </tr>\n",
       "  </tbody>\n",
       "</table>\n",
       "</div>"
      ],
      "text/plain": [
       "   SepalLength  SepalWidth  PetalLength  PetalWidth\n",
       "0          6.4         2.8          5.6         2.2\n",
       "1          5.0         2.3          3.3         1.0\n",
       "2          4.9         2.5          4.5         1.7\n",
       "3          4.9         3.1          1.5         0.1\n",
       "4          5.7         3.8          1.7         0.3"
      ]
     },
     "execution_count": 30,
     "metadata": {},
     "output_type": "execute_result"
    }
   ],
   "source": [
    "train_y = train.pop('Species')\n",
    "test_y = test.pop('Species')\n",
    "\n",
    "# The label column has now been removed from the features.\n",
    "train.head()"
   ]
  },
  {
   "cell_type": "code",
   "execution_count": 31,
   "metadata": {},
   "outputs": [],
   "source": [
    "def input_evaluation_set():\n",
    "    features = {'SepalLength': np.array([6.4, 5.0]),\n",
    "                'SepalWidth':  np.array([2.8, 2.3]),\n",
    "                'PetalLength': np.array([5.6, 3.3]),\n",
    "                'PetalWidth':  np.array([2.2, 1.0])}\n",
    "    labels = np.array([2, 1])\n",
    "    return features, labels"
   ]
  },
  {
   "cell_type": "code",
   "execution_count": 32,
   "metadata": {},
   "outputs": [],
   "source": [
    "def input_fn(features, labels, training=True, batch_size=256):\n",
    "    \"\"\"An input function for training or evaluating\"\"\"\n",
    "    # Convert the inputs to a Dataset.\n",
    "    dataset = tf.data.Dataset.from_tensor_slices((dict(features), labels))\n",
    "\n",
    "    # Shuffle and repeat if you are in training mode.\n",
    "    if training:\n",
    "        dataset = dataset.shuffle(1000).repeat()\n",
    "    \n",
    "    return dataset.batch(batch_size)"
   ]
  },
  {
   "cell_type": "code",
   "execution_count": 33,
   "metadata": {},
   "outputs": [],
   "source": [
    "# Feature columns describe how to use the input.\n",
    "my_feature_columns = []\n",
    "for key in train.keys():\n",
    "    my_feature_columns.append(tf.feature_column.numeric_column(key=key))\n"
   ]
  },
  {
   "cell_type": "code",
   "execution_count": 39,
   "metadata": {},
   "outputs": [
    {
     "data": {
      "text/plain": [
       "[NumericColumn(key='SepalLength', shape=(1,), default_value=None, dtype=tf.float32, normalizer_fn=None),\n",
       " NumericColumn(key='SepalWidth', shape=(1,), default_value=None, dtype=tf.float32, normalizer_fn=None),\n",
       " NumericColumn(key='PetalLength', shape=(1,), default_value=None, dtype=tf.float32, normalizer_fn=None),\n",
       " NumericColumn(key='PetalWidth', shape=(1,), default_value=None, dtype=tf.float32, normalizer_fn=None)]"
      ]
     },
     "execution_count": 39,
     "metadata": {},
     "output_type": "execute_result"
    }
   ],
   "source": [
    "my_feature_columns"
   ]
  },
  {
   "cell_type": "code",
   "execution_count": 34,
   "metadata": {},
   "outputs": [
    {
     "name": "stdout",
     "output_type": "stream",
     "text": [
      "INFO:tensorflow:Using default config.\n",
      "WARNING:tensorflow:Using temporary folder as model directory: C:\\Users\\LG\\AppData\\Local\\Temp\\tmpjfy7d9w1\n",
      "INFO:tensorflow:Using config: {'_model_dir': 'C:\\\\Users\\\\LG\\\\AppData\\\\Local\\\\Temp\\\\tmpjfy7d9w1', '_tf_random_seed': None, '_save_summary_steps': 100, '_save_checkpoints_steps': None, '_save_checkpoints_secs': 600, '_session_config': allow_soft_placement: true\n",
      "graph_options {\n",
      "  rewrite_options {\n",
      "    meta_optimizer_iterations: ONE\n",
      "  }\n",
      "}\n",
      ", '_keep_checkpoint_max': 5, '_keep_checkpoint_every_n_hours': 10000, '_log_step_count_steps': 100, '_train_distribute': None, '_device_fn': None, '_protocol': None, '_eval_distribute': None, '_experimental_distribute': None, '_experimental_max_worker_delay_secs': None, '_session_creation_timeout_secs': 7200, '_service': None, '_cluster_spec': <tensorflow.python.training.server_lib.ClusterSpec object at 0x000001FE42CCA550>, '_task_type': 'worker', '_task_id': 0, '_global_id_in_cluster': 0, '_master': '', '_evaluation_master': '', '_is_chief': True, '_num_ps_replicas': 0, '_num_worker_replicas': 1}\n"
     ]
    }
   ],
   "source": [
    "# Build a DNN with 2 hidden layers with 30 and 10 hidden nodes each.\n",
    "classifier = tf.estimator.DNNClassifier(\n",
    "    feature_columns=my_feature_columns,\n",
    "    # Two hidden layers of 30 and 10 nodes respectively.\n",
    "    hidden_units=[30, 10],\n",
    "    # The model must choose between 3 classes.\n",
    "    n_classes=3)"
   ]
  },
  {
   "cell_type": "code",
   "execution_count": 35,
   "metadata": {},
   "outputs": [
    {
     "name": "stdout",
     "output_type": "stream",
     "text": [
      "INFO:tensorflow:Calling model_fn.\n",
      "WARNING:tensorflow:Layer dnn is casting an input tensor from dtype float64 to the layer's dtype of float32, which is new behavior in TensorFlow 2.  The layer has dtype float32 because it's dtype defaults to floatx.\n",
      "\n",
      "If you intended to run this layer in float32, you can safely ignore this warning. If in doubt, this warning is likely only an issue if you are porting a TensorFlow 1.X model to TensorFlow 2.\n",
      "\n",
      "To change all layers to have dtype float64 by default, call `tf.keras.backend.set_floatx('float64')`. To change just this layer, pass dtype='float64' to the layer constructor. If you are the author of this layer, you can disable autocasting by passing autocast=False to the base Layer constructor.\n",
      "\n",
      "INFO:tensorflow:Done calling model_fn.\n",
      "INFO:tensorflow:Create CheckpointSaverHook.\n",
      "INFO:tensorflow:Graph was finalized.\n",
      "INFO:tensorflow:Running local_init_op.\n",
      "INFO:tensorflow:Done running local_init_op.\n",
      "INFO:tensorflow:Saving checkpoints for 0 into C:\\Users\\LG\\AppData\\Local\\Temp\\tmpjfy7d9w1\\model.ckpt.\n",
      "INFO:tensorflow:loss = 1.0295892, step = 0\n",
      "INFO:tensorflow:global_step/sec: 415.959\n",
      "INFO:tensorflow:loss = 0.9393765, step = 100 (0.256 sec)\n",
      "INFO:tensorflow:global_step/sec: 530.501\n",
      "INFO:tensorflow:loss = 0.89160985, step = 200 (0.179 sec)\n",
      "INFO:tensorflow:global_step/sec: 579.718\n",
      "INFO:tensorflow:loss = 0.849067, step = 300 (0.180 sec)\n",
      "INFO:tensorflow:global_step/sec: 551.739\n",
      "INFO:tensorflow:loss = 0.82309145, step = 400 (0.181 sec)\n",
      "INFO:tensorflow:global_step/sec: 539.067\n",
      "INFO:tensorflow:loss = 0.78970015, step = 500 (0.173 sec)\n",
      "INFO:tensorflow:global_step/sec: 575.1\n",
      "INFO:tensorflow:loss = 0.7657348, step = 600 (0.187 sec)\n",
      "INFO:tensorflow:global_step/sec: 557.074\n",
      "INFO:tensorflow:loss = 0.74064577, step = 700 (0.184 sec)\n",
      "INFO:tensorflow:global_step/sec: 539.554\n",
      "INFO:tensorflow:loss = 0.7419495, step = 800 (0.184 sec)\n",
      "INFO:tensorflow:global_step/sec: 536.909\n",
      "INFO:tensorflow:loss = 0.712608, step = 900 (0.186 sec)\n",
      "INFO:tensorflow:global_step/sec: 532.487\n",
      "INFO:tensorflow:loss = 0.6971631, step = 1000 (0.188 sec)\n",
      "INFO:tensorflow:global_step/sec: 587.257\n",
      "INFO:tensorflow:loss = 0.67971146, step = 1100 (0.174 sec)\n",
      "INFO:tensorflow:global_step/sec: 539.575\n",
      "INFO:tensorflow:loss = 0.66144943, step = 1200 (0.179 sec)\n",
      "INFO:tensorflow:global_step/sec: 556.474\n",
      "INFO:tensorflow:loss = 0.64280856, step = 1300 (0.178 sec)\n",
      "INFO:tensorflow:global_step/sec: 616.19\n",
      "INFO:tensorflow:loss = 0.6343185, step = 1400 (0.169 sec)\n",
      "INFO:tensorflow:global_step/sec: 535.123\n",
      "INFO:tensorflow:loss = 0.6261751, step = 1500 (0.181 sec)\n",
      "INFO:tensorflow:global_step/sec: 530.298\n",
      "INFO:tensorflow:loss = 0.60324705, step = 1600 (0.177 sec)\n",
      "INFO:tensorflow:global_step/sec: 547.606\n",
      "INFO:tensorflow:loss = 0.59387064, step = 1700 (0.183 sec)\n",
      "INFO:tensorflow:global_step/sec: 563.253\n",
      "INFO:tensorflow:loss = 0.59669876, step = 1800 (0.178 sec)\n",
      "INFO:tensorflow:global_step/sec: 530.243\n",
      "INFO:tensorflow:loss = 0.58240813, step = 1900 (0.189 sec)\n",
      "INFO:tensorflow:global_step/sec: 660.619\n",
      "INFO:tensorflow:loss = 0.56955016, step = 2000 (0.167 sec)\n",
      "INFO:tensorflow:global_step/sec: 581.786\n",
      "INFO:tensorflow:loss = 0.5691749, step = 2100 (0.156 sec)\n",
      "INFO:tensorflow:global_step/sec: 643.329\n",
      "INFO:tensorflow:loss = 0.562449, step = 2200 (0.155 sec)\n",
      "INFO:tensorflow:global_step/sec: 598.802\n",
      "INFO:tensorflow:loss = 0.5531972, step = 2300 (0.167 sec)\n",
      "INFO:tensorflow:global_step/sec: 603.017\n",
      "INFO:tensorflow:loss = 0.54048765, step = 2400 (0.166 sec)\n",
      "INFO:tensorflow:global_step/sec: 591.534\n",
      "INFO:tensorflow:loss = 0.5258828, step = 2500 (0.169 sec)\n",
      "INFO:tensorflow:global_step/sec: 583.227\n",
      "INFO:tensorflow:loss = 0.5325347, step = 2600 (0.171 sec)\n",
      "INFO:tensorflow:global_step/sec: 508.712\n",
      "INFO:tensorflow:loss = 0.5174794, step = 2700 (0.197 sec)\n",
      "INFO:tensorflow:global_step/sec: 566.177\n",
      "INFO:tensorflow:loss = 0.5110971, step = 2800 (0.177 sec)\n",
      "INFO:tensorflow:global_step/sec: 621.264\n",
      "INFO:tensorflow:loss = 0.5115376, step = 2900 (0.161 sec)\n",
      "INFO:tensorflow:global_step/sec: 579.655\n",
      "INFO:tensorflow:loss = 0.4979133, step = 3000 (0.173 sec)\n",
      "INFO:tensorflow:global_step/sec: 652.882\n",
      "INFO:tensorflow:loss = 0.49953213, step = 3100 (0.167 sec)\n",
      "INFO:tensorflow:global_step/sec: 555.241\n",
      "INFO:tensorflow:loss = 0.48174164, step = 3200 (0.172 sec)\n",
      "INFO:tensorflow:global_step/sec: 579.7\n",
      "INFO:tensorflow:loss = 0.4970959, step = 3300 (0.179 sec)\n",
      "INFO:tensorflow:global_step/sec: 557.379\n",
      "INFO:tensorflow:loss = 0.47534007, step = 3400 (0.167 sec)\n",
      "INFO:tensorflow:global_step/sec: 557.246\n",
      "INFO:tensorflow:loss = 0.47131106, step = 3500 (0.199 sec)\n",
      "INFO:tensorflow:global_step/sec: 528.301\n",
      "INFO:tensorflow:loss = 0.47344947, step = 3600 (0.189 sec)\n",
      "INFO:tensorflow:global_step/sec: 448.73\n",
      "INFO:tensorflow:loss = 0.4753271, step = 3700 (0.208 sec)\n",
      "INFO:tensorflow:global_step/sec: 560.011\n",
      "INFO:tensorflow:loss = 0.46906537, step = 3800 (0.175 sec)\n",
      "INFO:tensorflow:global_step/sec: 607.454\n",
      "INFO:tensorflow:loss = 0.46369314, step = 3900 (0.169 sec)\n",
      "INFO:tensorflow:global_step/sec: 578.95\n",
      "INFO:tensorflow:loss = 0.45828456, step = 4000 (0.180 sec)\n",
      "INFO:tensorflow:global_step/sec: 457.187\n",
      "INFO:tensorflow:loss = 0.45829266, step = 4100 (0.222 sec)\n",
      "INFO:tensorflow:global_step/sec: 609.704\n",
      "INFO:tensorflow:loss = 0.45203105, step = 4200 (0.148 sec)\n",
      "INFO:tensorflow:global_step/sec: 578.775\n",
      "INFO:tensorflow:loss = 0.4343182, step = 4300 (0.192 sec)\n",
      "INFO:tensorflow:global_step/sec: 494.285\n",
      "INFO:tensorflow:loss = 0.44037348, step = 4400 (0.183 sec)\n",
      "INFO:tensorflow:global_step/sec: 580.59\n",
      "INFO:tensorflow:loss = 0.43559492, step = 4500 (0.184 sec)\n",
      "INFO:tensorflow:global_step/sec: 562.281\n",
      "INFO:tensorflow:loss = 0.44043642, step = 4600 (0.175 sec)\n",
      "INFO:tensorflow:global_step/sec: 533.151\n",
      "INFO:tensorflow:loss = 0.42872304, step = 4700 (0.182 sec)\n",
      "INFO:tensorflow:global_step/sec: 656.241\n",
      "INFO:tensorflow:loss = 0.42468038, step = 4800 (0.149 sec)\n",
      "INFO:tensorflow:global_step/sec: 603.553\n",
      "INFO:tensorflow:loss = 0.4279256, step = 4900 (0.173 sec)\n",
      "INFO:tensorflow:Saving checkpoints for 5000 into C:\\Users\\LG\\AppData\\Local\\Temp\\tmpjfy7d9w1\\model.ckpt.\n",
      "INFO:tensorflow:Loss for final step: 0.4110434.\n"
     ]
    },
    {
     "data": {
      "text/plain": [
       "<tensorflow_estimator.python.estimator.canned.dnn.DNNClassifierV2 at 0x1fe40c87d68>"
      ]
     },
     "execution_count": 35,
     "metadata": {},
     "output_type": "execute_result"
    }
   ],
   "source": [
    "# Train the Model.\n",
    "classifier.train(\n",
    "    input_fn=lambda: input_fn(train, train_y, training=True),\n",
    "    steps=5000)"
   ]
  },
  {
   "cell_type": "code",
   "execution_count": 36,
   "metadata": {},
   "outputs": [
    {
     "name": "stdout",
     "output_type": "stream",
     "text": [
      "INFO:tensorflow:Calling model_fn.\n",
      "WARNING:tensorflow:Layer dnn is casting an input tensor from dtype float64 to the layer's dtype of float32, which is new behavior in TensorFlow 2.  The layer has dtype float32 because it's dtype defaults to floatx.\n",
      "\n",
      "If you intended to run this layer in float32, you can safely ignore this warning. If in doubt, this warning is likely only an issue if you are porting a TensorFlow 1.X model to TensorFlow 2.\n",
      "\n",
      "To change all layers to have dtype float64 by default, call `tf.keras.backend.set_floatx('float64')`. To change just this layer, pass dtype='float64' to the layer constructor. If you are the author of this layer, you can disable autocasting by passing autocast=False to the base Layer constructor.\n",
      "\n",
      "INFO:tensorflow:Done calling model_fn.\n",
      "INFO:tensorflow:Starting evaluation at 2020-03-02T14:02:38Z\n",
      "INFO:tensorflow:Graph was finalized.\n",
      "INFO:tensorflow:Restoring parameters from C:\\Users\\LG\\AppData\\Local\\Temp\\tmpjfy7d9w1\\model.ckpt-5000\n",
      "INFO:tensorflow:Running local_init_op.\n",
      "INFO:tensorflow:Done running local_init_op.\n",
      "INFO:tensorflow:Finished evaluation at 2020-03-02-14:02:39\n",
      "INFO:tensorflow:Saving dict for global step 5000: accuracy = 0.8333333, average_loss = 0.50168824, global_step = 5000, loss = 0.50168824\n",
      "INFO:tensorflow:Saving 'checkpoint_path' summary for global step 5000: C:\\Users\\LG\\AppData\\Local\\Temp\\tmpjfy7d9w1\\model.ckpt-5000\n",
      "\n",
      "Test set accuracy: 0.833\n",
      "\n"
     ]
    }
   ],
   "source": [
    "eval_result = classifier.evaluate(\n",
    "    input_fn=lambda: input_fn(test, test_y, training=False))\n",
    "\n",
    "print('\\nTest set accuracy: {accuracy:0.3f}\\n'.format(**eval_result))"
   ]
  },
  {
   "cell_type": "code",
   "execution_count": 37,
   "metadata": {},
   "outputs": [],
   "source": [
    "# Generate predictions from the model\n",
    "expected = ['Setosa', 'Versicolor', 'Virginica']\n",
    "predict_x = {\n",
    "    'SepalLength': [5.1, 5.9, 6.9],\n",
    "    'SepalWidth': [3.3, 3.0, 3.1],\n",
    "    'PetalLength': [1.7, 4.2, 5.4],\n",
    "    'PetalWidth': [0.5, 1.5, 2.1],\n",
    "}\n",
    "\n",
    "def input_fn(features, batch_size=256):\n",
    "    \"\"\"An input function for prediction.\"\"\"\n",
    "    # Convert the inputs to a Dataset without labels.\n",
    "    return tf.data.Dataset.from_tensor_slices(dict(features)).batch(batch_size)\n",
    "\n",
    "predictions = classifier.predict(\n",
    "    input_fn=lambda: input_fn(predict_x))"
   ]
  },
  {
   "cell_type": "code",
   "execution_count": 38,
   "metadata": {},
   "outputs": [
    {
     "name": "stdout",
     "output_type": "stream",
     "text": [
      "INFO:tensorflow:Calling model_fn.\n",
      "INFO:tensorflow:Done calling model_fn.\n",
      "INFO:tensorflow:Graph was finalized.\n",
      "INFO:tensorflow:Restoring parameters from C:\\Users\\LG\\AppData\\Local\\Temp\\tmpjfy7d9w1\\model.ckpt-5000\n",
      "INFO:tensorflow:Running local_init_op.\n",
      "INFO:tensorflow:Done running local_init_op.\n",
      "Prediction is \"Setosa\" (81.9%), expected \"Setosa\"\n",
      "Prediction is \"Versicolor\" (47.2%), expected \"Versicolor\"\n",
      "Prediction is \"Virginica\" (62.0%), expected \"Virginica\"\n"
     ]
    }
   ],
   "source": [
    "for pred_dict, expec in zip(predictions, expected):\n",
    "    class_id = pred_dict['class_ids'][0]\n",
    "    probability = pred_dict['probabilities'][class_id]\n",
    "\n",
    "    print('Prediction is \"{}\" ({:.1f}%), expected \"{}\"'.format(\n",
    "        SPECIES[class_id], 100 * probability, expec))"
   ]
  },
  {
   "cell_type": "code",
   "execution_count": null,
   "metadata": {},
   "outputs": [],
   "source": []
  }
 ],
 "metadata": {
  "kernelspec": {
   "display_name": "Python 3",
   "language": "python",
   "name": "python3"
  },
  "language_info": {
   "codemirror_mode": {
    "name": "ipython",
    "version": 3
   },
   "file_extension": ".py",
   "mimetype": "text/x-python",
   "name": "python",
   "nbconvert_exporter": "python",
   "pygments_lexer": "ipython3",
   "version": "3.6.8"
  }
 },
 "nbformat": 4,
 "nbformat_minor": 4
}
