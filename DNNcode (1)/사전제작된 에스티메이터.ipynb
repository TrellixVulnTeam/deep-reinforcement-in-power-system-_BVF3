{
 "cells": [
  {
   "cell_type": "code",
   "execution_count": 2,
   "metadata": {},
   "outputs": [],
   "source": [
    "from __future__ import absolute_import, division, print_function, unicode_literals\n",
    "\n",
    "import tensorflow as tf\n",
    "import pandas as pd"
   ]
  },
  {
   "cell_type": "code",
   "execution_count": 3,
   "metadata": {},
   "outputs": [],
   "source": [
    "CSV_COLUMN_NAMES = ['SepalLength', 'SepalWidth', 'PetalLength', 'PetalWidth', 'Species']\n",
    "SPECIES = ['Setosa', 'Versicolor', 'Virginica']"
   ]
  },
  {
   "cell_type": "code",
   "execution_count": 4,
   "metadata": {
    "scrolled": true
   },
   "outputs": [],
   "source": [
    "train_path = tf.keras.utils.get_file(\n",
    "    \"iris_training.csv\", \"https://storage.googleapis.com/download.tensorflow.org/data/iris_training.csv\")\n",
    "test_path = tf.keras.utils.get_file(\n",
    "    \"iris_test.csv\", \"https://storage.googleapis.com/download.tensorflow.org/data/iris_test.csv\")\n",
    "\n",
    "train = pd.read_csv(train_path, names=CSV_COLUMN_NAMES, header=0)\n",
    "test = pd.read_csv(test_path, names=CSV_COLUMN_NAMES, header=0)\n"
   ]
  },
  {
   "cell_type": "code",
   "execution_count": 5,
   "metadata": {},
   "outputs": [
    {
     "data": {
      "text/html": [
       "<div>\n",
       "<style scoped>\n",
       "    .dataframe tbody tr th:only-of-type {\n",
       "        vertical-align: middle;\n",
       "    }\n",
       "\n",
       "    .dataframe tbody tr th {\n",
       "        vertical-align: top;\n",
       "    }\n",
       "\n",
       "    .dataframe thead th {\n",
       "        text-align: right;\n",
       "    }\n",
       "</style>\n",
       "<table border=\"1\" class=\"dataframe\">\n",
       "  <thead>\n",
       "    <tr style=\"text-align: right;\">\n",
       "      <th></th>\n",
       "      <th>SepalLength</th>\n",
       "      <th>SepalWidth</th>\n",
       "      <th>PetalLength</th>\n",
       "      <th>PetalWidth</th>\n",
       "      <th>Species</th>\n",
       "    </tr>\n",
       "  </thead>\n",
       "  <tbody>\n",
       "    <tr>\n",
       "      <th>0</th>\n",
       "      <td>6.4</td>\n",
       "      <td>2.8</td>\n",
       "      <td>5.6</td>\n",
       "      <td>2.2</td>\n",
       "      <td>2</td>\n",
       "    </tr>\n",
       "    <tr>\n",
       "      <th>1</th>\n",
       "      <td>5.0</td>\n",
       "      <td>2.3</td>\n",
       "      <td>3.3</td>\n",
       "      <td>1.0</td>\n",
       "      <td>1</td>\n",
       "    </tr>\n",
       "    <tr>\n",
       "      <th>2</th>\n",
       "      <td>4.9</td>\n",
       "      <td>2.5</td>\n",
       "      <td>4.5</td>\n",
       "      <td>1.7</td>\n",
       "      <td>2</td>\n",
       "    </tr>\n",
       "    <tr>\n",
       "      <th>3</th>\n",
       "      <td>4.9</td>\n",
       "      <td>3.1</td>\n",
       "      <td>1.5</td>\n",
       "      <td>0.1</td>\n",
       "      <td>0</td>\n",
       "    </tr>\n",
       "    <tr>\n",
       "      <th>4</th>\n",
       "      <td>5.7</td>\n",
       "      <td>3.8</td>\n",
       "      <td>1.7</td>\n",
       "      <td>0.3</td>\n",
       "      <td>0</td>\n",
       "    </tr>\n",
       "    <tr>\n",
       "      <th>...</th>\n",
       "      <td>...</td>\n",
       "      <td>...</td>\n",
       "      <td>...</td>\n",
       "      <td>...</td>\n",
       "      <td>...</td>\n",
       "    </tr>\n",
       "    <tr>\n",
       "      <th>115</th>\n",
       "      <td>5.5</td>\n",
       "      <td>2.6</td>\n",
       "      <td>4.4</td>\n",
       "      <td>1.2</td>\n",
       "      <td>1</td>\n",
       "    </tr>\n",
       "    <tr>\n",
       "      <th>116</th>\n",
       "      <td>5.7</td>\n",
       "      <td>3.0</td>\n",
       "      <td>4.2</td>\n",
       "      <td>1.2</td>\n",
       "      <td>1</td>\n",
       "    </tr>\n",
       "    <tr>\n",
       "      <th>117</th>\n",
       "      <td>4.4</td>\n",
       "      <td>2.9</td>\n",
       "      <td>1.4</td>\n",
       "      <td>0.2</td>\n",
       "      <td>0</td>\n",
       "    </tr>\n",
       "    <tr>\n",
       "      <th>118</th>\n",
       "      <td>4.8</td>\n",
       "      <td>3.0</td>\n",
       "      <td>1.4</td>\n",
       "      <td>0.1</td>\n",
       "      <td>0</td>\n",
       "    </tr>\n",
       "    <tr>\n",
       "      <th>119</th>\n",
       "      <td>5.5</td>\n",
       "      <td>2.4</td>\n",
       "      <td>3.7</td>\n",
       "      <td>1.0</td>\n",
       "      <td>1</td>\n",
       "    </tr>\n",
       "  </tbody>\n",
       "</table>\n",
       "<p>120 rows × 5 columns</p>\n",
       "</div>"
      ],
      "text/plain": [
       "     SepalLength  SepalWidth  PetalLength  PetalWidth  Species\n",
       "0            6.4         2.8          5.6         2.2        2\n",
       "1            5.0         2.3          3.3         1.0        1\n",
       "2            4.9         2.5          4.5         1.7        2\n",
       "3            4.9         3.1          1.5         0.1        0\n",
       "4            5.7         3.8          1.7         0.3        0\n",
       "..           ...         ...          ...         ...      ...\n",
       "115          5.5         2.6          4.4         1.2        1\n",
       "116          5.7         3.0          4.2         1.2        1\n",
       "117          4.4         2.9          1.4         0.2        0\n",
       "118          4.8         3.0          1.4         0.1        0\n",
       "119          5.5         2.4          3.7         1.0        1\n",
       "\n",
       "[120 rows x 5 columns]"
      ]
     },
     "execution_count": 5,
     "metadata": {},
     "output_type": "execute_result"
    }
   ],
   "source": [
    "train"
   ]
  },
  {
   "cell_type": "code",
   "execution_count": 6,
   "metadata": {},
   "outputs": [
    {
     "data": {
      "text/html": [
       "<div>\n",
       "<style scoped>\n",
       "    .dataframe tbody tr th:only-of-type {\n",
       "        vertical-align: middle;\n",
       "    }\n",
       "\n",
       "    .dataframe tbody tr th {\n",
       "        vertical-align: top;\n",
       "    }\n",
       "\n",
       "    .dataframe thead th {\n",
       "        text-align: right;\n",
       "    }\n",
       "</style>\n",
       "<table border=\"1\" class=\"dataframe\">\n",
       "  <thead>\n",
       "    <tr style=\"text-align: right;\">\n",
       "      <th></th>\n",
       "      <th>SepalLength</th>\n",
       "      <th>SepalWidth</th>\n",
       "      <th>PetalLength</th>\n",
       "      <th>PetalWidth</th>\n",
       "    </tr>\n",
       "  </thead>\n",
       "  <tbody>\n",
       "    <tr>\n",
       "      <th>0</th>\n",
       "      <td>6.4</td>\n",
       "      <td>2.8</td>\n",
       "      <td>5.6</td>\n",
       "      <td>2.2</td>\n",
       "    </tr>\n",
       "    <tr>\n",
       "      <th>1</th>\n",
       "      <td>5.0</td>\n",
       "      <td>2.3</td>\n",
       "      <td>3.3</td>\n",
       "      <td>1.0</td>\n",
       "    </tr>\n",
       "    <tr>\n",
       "      <th>2</th>\n",
       "      <td>4.9</td>\n",
       "      <td>2.5</td>\n",
       "      <td>4.5</td>\n",
       "      <td>1.7</td>\n",
       "    </tr>\n",
       "    <tr>\n",
       "      <th>3</th>\n",
       "      <td>4.9</td>\n",
       "      <td>3.1</td>\n",
       "      <td>1.5</td>\n",
       "      <td>0.1</td>\n",
       "    </tr>\n",
       "    <tr>\n",
       "      <th>4</th>\n",
       "      <td>5.7</td>\n",
       "      <td>3.8</td>\n",
       "      <td>1.7</td>\n",
       "      <td>0.3</td>\n",
       "    </tr>\n",
       "  </tbody>\n",
       "</table>\n",
       "</div>"
      ],
      "text/plain": [
       "   SepalLength  SepalWidth  PetalLength  PetalWidth\n",
       "0          6.4         2.8          5.6         2.2\n",
       "1          5.0         2.3          3.3         1.0\n",
       "2          4.9         2.5          4.5         1.7\n",
       "3          4.9         3.1          1.5         0.1\n",
       "4          5.7         3.8          1.7         0.3"
      ]
     },
     "execution_count": 6,
     "metadata": {},
     "output_type": "execute_result"
    }
   ],
   "source": [
    "train_y = train.pop('Species')\n",
    "test_y = test.pop('Species')\n",
    "\n",
    "# The label column has now been removed from the features.\n",
    "train.head()"
   ]
  },
  {
   "cell_type": "code",
   "execution_count": 7,
   "metadata": {},
   "outputs": [],
   "source": [
    "def input_evaluation_set():\n",
    "    features = {'SepalLength': np.array([6.4, 5.0]),\n",
    "                'SepalWidth':  np.array([2.8, 2.3]),\n",
    "                'PetalLength': np.array([5.6, 3.3]),\n",
    "                'PetalWidth':  np.array([2.2, 1.0])}\n",
    "    labels = np.array([2, 1])\n",
    "    return features, labels"
   ]
  },
  {
   "cell_type": "code",
   "execution_count": 8,
   "metadata": {},
   "outputs": [],
   "source": [
    "def input_fn(features, labels, training=True, batch_size=256):\n",
    "    \"\"\"An input function for training or evaluating\"\"\"\n",
    "    # Convert the inputs to a Dataset.\n",
    "    dataset = tf.data.Dataset.from_tensor_slices((dict(features), labels))\n",
    "\n",
    "    # Shuffle and repeat if you are in training mode.shuffle = 데이더 통의 크기를 정해줌\n",
    "    if training:\n",
    "        dataset = dataset.shuffle(1000).repeat()                     \n",
    "    \n",
    "    return dataset.batch(batch_size)"
   ]
  },
  {
   "cell_type": "code",
   "execution_count": 9,
   "metadata": {},
   "outputs": [],
   "source": [
    "# Feature columns describe how to use the input.\n",
    "my_feature_columns = []\n",
    "for key in train.keys():\n",
    "    my_feature_columns.append(tf.feature_column.numeric_column(key=key))"
   ]
  },
  {
   "cell_type": "code",
   "execution_count": 10,
   "metadata": {},
   "outputs": [
    {
     "name": "stdout",
     "output_type": "stream",
     "text": [
      "INFO:tensorflow:Using default config.\n",
      "WARNING:tensorflow:Using temporary folder as model directory: C:\\Users\\LG\\AppData\\Local\\Temp\\tmp1kqy6e34\n",
      "INFO:tensorflow:Using config: {'_model_dir': 'C:\\\\Users\\\\LG\\\\AppData\\\\Local\\\\Temp\\\\tmp1kqy6e34', '_tf_random_seed': None, '_save_summary_steps': 100, '_save_checkpoints_steps': None, '_save_checkpoints_secs': 600, '_session_config': allow_soft_placement: true\n",
      "graph_options {\n",
      "  rewrite_options {\n",
      "    meta_optimizer_iterations: ONE\n",
      "  }\n",
      "}\n",
      ", '_keep_checkpoint_max': 5, '_keep_checkpoint_every_n_hours': 10000, '_log_step_count_steps': 100, '_train_distribute': None, '_device_fn': None, '_protocol': None, '_eval_distribute': None, '_experimental_distribute': None, '_experimental_max_worker_delay_secs': None, '_session_creation_timeout_secs': 7200, '_service': None, '_cluster_spec': <tensorflow.python.training.server_lib.ClusterSpec object at 0x000001696FAB35F8>, '_task_type': 'worker', '_task_id': 0, '_global_id_in_cluster': 0, '_master': '', '_evaluation_master': '', '_is_chief': True, '_num_ps_replicas': 0, '_num_worker_replicas': 1}\n"
     ]
    }
   ],
   "source": [
    "# Build a DNN with 2 hidden layers with 30 and 10 hidden nodes each.\n",
    "regressor = tf.estimator.DNNRegressor(\n",
    "    feature_columns=my_feature_columns,\n",
    "    # Two hidden layers of 30 and 10 nodes respectively.\n",
    "    hidden_units=[30, 10, 1],\n",
    "    )"
   ]
  },
  {
   "cell_type": "code",
   "execution_count": 11,
   "metadata": {},
   "outputs": [
    {
     "name": "stdout",
     "output_type": "stream",
     "text": [
      "WARNING:tensorflow:From C:\\Users\\LG\\Anaconda3\\envs\\tensor\\lib\\site-packages\\tensorflow_core\\python\\ops\\resource_variable_ops.py:1630: calling BaseResourceVariable.__init__ (from tensorflow.python.ops.resource_variable_ops) with constraint is deprecated and will be removed in a future version.\n",
      "Instructions for updating:\n",
      "If using Keras pass *_constraint arguments to layers.\n",
      "WARNING:tensorflow:From C:\\Users\\LG\\Anaconda3\\envs\\tensor\\lib\\site-packages\\tensorflow_core\\python\\training\\training_util.py:236: Variable.initialized_value (from tensorflow.python.ops.variables) is deprecated and will be removed in a future version.\n",
      "Instructions for updating:\n",
      "Use Variable.read_value. Variables in 2.X are initialized automatically both in eager and graph (inside tf.defun) contexts.\n",
      "INFO:tensorflow:Calling model_fn.\n",
      "WARNING:tensorflow:Layer dnn is casting an input tensor from dtype float64 to the layer's dtype of float32, which is new behavior in TensorFlow 2.  The layer has dtype float32 because it's dtype defaults to floatx.\n",
      "\n",
      "If you intended to run this layer in float32, you can safely ignore this warning. If in doubt, this warning is likely only an issue if you are porting a TensorFlow 1.X model to TensorFlow 2.\n",
      "\n",
      "To change all layers to have dtype float64 by default, call `tf.keras.backend.set_floatx('float64')`. To change just this layer, pass dtype='float64' to the layer constructor. If you are the author of this layer, you can disable autocasting by passing autocast=False to the base Layer constructor.\n",
      "\n",
      "WARNING:tensorflow:From C:\\Users\\LG\\Anaconda3\\envs\\tensor\\lib\\site-packages\\tensorflow_estimator\\python\\estimator\\head\\regression_head.py:156: to_float (from tensorflow.python.ops.math_ops) is deprecated and will be removed in a future version.\n",
      "Instructions for updating:\n",
      "Use `tf.cast` instead.\n",
      "WARNING:tensorflow:From C:\\Users\\LG\\Anaconda3\\envs\\tensor\\lib\\site-packages\\tensorflow_core\\python\\keras\\optimizer_v2\\adagrad.py:108: calling Constant.__init__ (from tensorflow.python.ops.init_ops) with dtype is deprecated and will be removed in a future version.\n",
      "Instructions for updating:\n",
      "Call initializer instance with the dtype argument instead of passing it to the constructor\n",
      "INFO:tensorflow:Done calling model_fn.\n",
      "INFO:tensorflow:Create CheckpointSaverHook.\n",
      "INFO:tensorflow:Graph was finalized.\n",
      "INFO:tensorflow:Running local_init_op.\n",
      "INFO:tensorflow:Done running local_init_op.\n",
      "INFO:tensorflow:Saving checkpoints for 0 into C:\\Users\\LG\\AppData\\Local\\Temp\\tmp1kqy6e34\\model.ckpt.\n",
      "INFO:tensorflow:loss = 1.6679688, step = 0\n",
      "INFO:tensorflow:global_step/sec: 416.739\n",
      "INFO:tensorflow:loss = 1.6659081, step = 100 (0.240 sec)\n",
      "INFO:tensorflow:global_step/sec: 507.823\n",
      "INFO:tensorflow:loss = 1.7260804, step = 200 (0.201 sec)\n",
      "INFO:tensorflow:global_step/sec: 601.38\n",
      "INFO:tensorflow:loss = 1.6648366, step = 300 (0.171 sec)\n",
      "INFO:tensorflow:global_step/sec: 569.519\n",
      "INFO:tensorflow:loss = 1.748292, step = 400 (0.167 sec)\n",
      "INFO:tensorflow:global_step/sec: 577.354\n",
      "INFO:tensorflow:loss = 1.5742826, step = 500 (0.173 sec)\n",
      "INFO:tensorflow:global_step/sec: 664.604\n",
      "INFO:tensorflow:loss = 1.6742243, step = 600 (0.169 sec)\n",
      "INFO:tensorflow:global_step/sec: 583.071\n",
      "INFO:tensorflow:loss = 1.5522945, step = 700 (0.153 sec)\n",
      "INFO:tensorflow:global_step/sec: 580.802\n",
      "INFO:tensorflow:loss = 1.6021944, step = 800 (0.172 sec)\n",
      "INFO:tensorflow:global_step/sec: 642.826\n",
      "INFO:tensorflow:loss = 1.5863075, step = 900 (0.171 sec)\n",
      "INFO:tensorflow:global_step/sec: 595.534\n",
      "INFO:tensorflow:loss = 1.6184187, step = 1000 (0.152 sec)\n",
      "INFO:tensorflow:global_step/sec: 603.766\n",
      "INFO:tensorflow:loss = 1.5576043, step = 1100 (0.182 sec)\n",
      "INFO:tensorflow:global_step/sec: 553.262\n",
      "INFO:tensorflow:loss = 1.5736566, step = 1200 (0.164 sec)\n",
      "INFO:tensorflow:global_step/sec: 568.516\n",
      "INFO:tensorflow:loss = 1.6222074, step = 1300 (0.180 sec)\n",
      "INFO:tensorflow:global_step/sec: 581.666\n",
      "INFO:tensorflow:loss = 1.5457536, step = 1400 (0.168 sec)\n",
      "INFO:tensorflow:global_step/sec: 550.156\n",
      "INFO:tensorflow:loss = 1.5477194, step = 1500 (0.187 sec)\n",
      "INFO:tensorflow:global_step/sec: 460.47\n",
      "INFO:tensorflow:loss = 1.5876317, step = 1600 (0.217 sec)\n",
      "INFO:tensorflow:global_step/sec: 631.882\n",
      "INFO:tensorflow:loss = 1.5322199, step = 1700 (0.153 sec)\n",
      "INFO:tensorflow:global_step/sec: 601.145\n",
      "INFO:tensorflow:loss = 1.518914, step = 1800 (0.177 sec)\n",
      "INFO:tensorflow:global_step/sec: 628.805\n",
      "INFO:tensorflow:loss = 1.3860364, step = 1900 (0.164 sec)\n",
      "INFO:tensorflow:global_step/sec: 608.285\n",
      "INFO:tensorflow:loss = 1.497881, step = 2000 (0.167 sec)\n",
      "INFO:tensorflow:global_step/sec: 602.852\n",
      "INFO:tensorflow:loss = 1.5794965, step = 2100 (0.164 sec)\n",
      "INFO:tensorflow:global_step/sec: 582.405\n",
      "INFO:tensorflow:loss = 1.547171, step = 2200 (0.170 sec)\n",
      "INFO:tensorflow:global_step/sec: 547.891\n",
      "INFO:tensorflow:loss = 1.4459313, step = 2300 (0.169 sec)\n",
      "INFO:tensorflow:global_step/sec: 571.631\n",
      "INFO:tensorflow:loss = 1.5178084, step = 2400 (0.175 sec)\n",
      "INFO:tensorflow:global_step/sec: 579.644\n",
      "INFO:tensorflow:loss = 1.6003314, step = 2500 (0.173 sec)\n",
      "INFO:tensorflow:global_step/sec: 602.878\n",
      "INFO:tensorflow:loss = 1.5061289, step = 2600 (0.180 sec)\n",
      "INFO:tensorflow:global_step/sec: 575.271\n",
      "INFO:tensorflow:loss = 1.459019, step = 2700 (0.160 sec)\n",
      "INFO:tensorflow:global_step/sec: 580.964\n",
      "INFO:tensorflow:loss = 1.5119188, step = 2800 (0.172 sec)\n",
      "INFO:tensorflow:global_step/sec: 599.602\n",
      "INFO:tensorflow:loss = 1.4792142, step = 2900 (0.167 sec)\n",
      "INFO:tensorflow:global_step/sec: 643.186\n",
      "INFO:tensorflow:loss = 1.4898645, step = 3000 (0.155 sec)\n",
      "INFO:tensorflow:global_step/sec: 610.509\n",
      "INFO:tensorflow:loss = 1.4714186, step = 3100 (0.177 sec)\n",
      "INFO:tensorflow:global_step/sec: 613.285\n",
      "INFO:tensorflow:loss = 1.5441027, step = 3200 (0.159 sec)\n",
      "INFO:tensorflow:global_step/sec: 624.289\n",
      "INFO:tensorflow:loss = 1.5396994, step = 3300 (0.151 sec)\n",
      "INFO:tensorflow:global_step/sec: 590.989\n",
      "INFO:tensorflow:loss = 1.5041789, step = 3400 (0.169 sec)\n",
      "INFO:tensorflow:global_step/sec: 458.772\n",
      "INFO:tensorflow:loss = 1.5427741, step = 3500 (0.221 sec)\n",
      "INFO:tensorflow:global_step/sec: 536.401\n",
      "INFO:tensorflow:loss = 1.4953924, step = 3600 (0.200 sec)\n",
      "INFO:tensorflow:global_step/sec: 554.529\n",
      "INFO:tensorflow:loss = 1.4355929, step = 3700 (0.164 sec)\n",
      "INFO:tensorflow:global_step/sec: 615.886\n",
      "INFO:tensorflow:loss = 1.5370576, step = 3800 (0.180 sec)\n",
      "INFO:tensorflow:global_step/sec: 619.256\n",
      "INFO:tensorflow:loss = 1.468503, step = 3900 (0.153 sec)\n",
      "INFO:tensorflow:global_step/sec: 648.64\n",
      "INFO:tensorflow:loss = 1.5088894, step = 4000 (0.162 sec)\n",
      "INFO:tensorflow:global_step/sec: 514.829\n",
      "INFO:tensorflow:loss = 1.4094415, step = 4100 (0.181 sec)\n",
      "INFO:tensorflow:global_step/sec: 530.532\n",
      "INFO:tensorflow:loss = 1.4303427, step = 4200 (0.187 sec)\n",
      "INFO:tensorflow:global_step/sec: 659.539\n",
      "INFO:tensorflow:loss = 1.4980527, step = 4300 (0.150 sec)\n",
      "INFO:tensorflow:global_step/sec: 597.667\n",
      "INFO:tensorflow:loss = 1.4390013, step = 4400 (0.169 sec)\n",
      "INFO:tensorflow:global_step/sec: 396.315\n",
      "INFO:tensorflow:loss = 1.477352, step = 4500 (0.255 sec)\n",
      "INFO:tensorflow:global_step/sec: 593.158\n",
      "INFO:tensorflow:loss = 1.4320805, step = 4600 (0.164 sec)\n",
      "INFO:tensorflow:global_step/sec: 559.959\n",
      "INFO:tensorflow:loss = 1.3668218, step = 4700 (0.182 sec)\n",
      "INFO:tensorflow:global_step/sec: 513.345\n",
      "INFO:tensorflow:loss = 1.464262, step = 4800 (0.196 sec)\n",
      "INFO:tensorflow:global_step/sec: 574.417\n",
      "INFO:tensorflow:loss = 1.4405619, step = 4900 (0.172 sec)\n",
      "INFO:tensorflow:Saving checkpoints for 5000 into C:\\Users\\LG\\AppData\\Local\\Temp\\tmp1kqy6e34\\model.ckpt.\n",
      "INFO:tensorflow:Loss for final step: 1.5277483.\n"
     ]
    },
    {
     "data": {
      "text/plain": [
       "<tensorflow_estimator.python.estimator.canned.dnn.DNNRegressorV2 at 0x1696fab34a8>"
      ]
     },
     "execution_count": 11,
     "metadata": {},
     "output_type": "execute_result"
    }
   ],
   "source": [
    "# Train the Model.\n",
    "regressor.train(\n",
    "    input_fn=lambda: input_fn(train, train_y, training=True),\n",
    "    steps=5000)"
   ]
  },
  {
   "cell_type": "code",
   "execution_count": 12,
   "metadata": {},
   "outputs": [
    {
     "name": "stdout",
     "output_type": "stream",
     "text": [
      "INFO:tensorflow:Calling model_fn.\n",
      "WARNING:tensorflow:Layer dnn is casting an input tensor from dtype float64 to the layer's dtype of float32, which is new behavior in TensorFlow 2.  The layer has dtype float32 because it's dtype defaults to floatx.\n",
      "\n",
      "If you intended to run this layer in float32, you can safely ignore this warning. If in doubt, this warning is likely only an issue if you are porting a TensorFlow 1.X model to TensorFlow 2.\n",
      "\n",
      "To change all layers to have dtype float64 by default, call `tf.keras.backend.set_floatx('float64')`. To change just this layer, pass dtype='float64' to the layer constructor. If you are the author of this layer, you can disable autocasting by passing autocast=False to the base Layer constructor.\n",
      "\n",
      "INFO:tensorflow:Done calling model_fn.\n",
      "INFO:tensorflow:Starting evaluation at 2020-03-01T22:17:49Z\n",
      "INFO:tensorflow:Graph was finalized.\n",
      "INFO:tensorflow:Restoring parameters from C:\\Users\\LG\\AppData\\Local\\Temp\\tmp1kqy6e34\\model.ckpt-5000\n",
      "INFO:tensorflow:Running local_init_op.\n",
      "INFO:tensorflow:Done running local_init_op.\n",
      "INFO:tensorflow:Finished evaluation at 2020-03-01-22:17:49\n",
      "INFO:tensorflow:Saving dict for global step 5000: average_loss = 1.2791013, global_step = 5000, label/mean = 1.0, loss = 1.2791013, prediction/mean = 0.13642143\n",
      "INFO:tensorflow:Saving 'checkpoint_path' summary for global step 5000: C:\\Users\\LG\\AppData\\Local\\Temp\\tmp1kqy6e34\\model.ckpt-5000\n"
     ]
    }
   ],
   "source": [
    "eval_result = regressor.evaluate(\n",
    "    input_fn=lambda: input_fn(test, test_y, training=False))\n"
   ]
  },
  {
   "cell_type": "code",
   "execution_count": 13,
   "metadata": {},
   "outputs": [],
   "source": [
    "# Generate predictions from the model\n",
    "expected = ['Setosa', 'Versicolor', 'Virginica']\n",
    "predict_x = {\n",
    "    'SepalLength': [5.1, 5.9, 6.9],\n",
    "    'SepalWidth': [3.3, 3.0, 3.1],\n",
    "    'PetalLength': [1.7, 4.2, 5.4],\n",
    "    'PetalWidth': [0.5, 1.5, 2.1],\n",
    "}\n",
    "\n",
    "def input_fn(features, batch_size=256):\n",
    "    \"\"\"An input function for prediction.\"\"\"\n",
    "    # Convert the inputs to a Dataset without labels.\n",
    "    return tf.data.Dataset.from_tensor_slices(dict(features)).batch(batch_size)\n",
    "\n",
    "predictions = regressor.predict(\n",
    "    input_fn=lambda: input_fn(predict_x))"
   ]
  },
  {
   "cell_type": "code",
   "execution_count": 14,
   "metadata": {},
   "outputs": [
    {
     "name": "stdout",
     "output_type": "stream",
     "text": [
      "<generator object Estimator.predict at 0x000001696FD6BD00>\n"
     ]
    }
   ],
   "source": [
    "print(predictions)"
   ]
  },
  {
   "cell_type": "code",
   "execution_count": 15,
   "metadata": {},
   "outputs": [
    {
     "name": "stdout",
     "output_type": "stream",
     "text": [
      "INFO:tensorflow:Calling model_fn.\n",
      "INFO:tensorflow:Done calling model_fn.\n",
      "INFO:tensorflow:Graph was finalized.\n",
      "INFO:tensorflow:Restoring parameters from C:\\Users\\LG\\AppData\\Local\\Temp\\tmp1kqy6e34\\model.ckpt-5000\n",
      "INFO:tensorflow:Running local_init_op.\n",
      "INFO:tensorflow:Done running local_init_op.\n"
     ]
    },
    {
     "ename": "KeyError",
     "evalue": "'probabilities'",
     "output_type": "error",
     "traceback": [
      "\u001b[1;31m---------------------------------------------------------------------------\u001b[0m",
      "\u001b[1;31mKeyError\u001b[0m                                  Traceback (most recent call last)",
      "\u001b[1;32m<ipython-input-15-1b12442f8701>\u001b[0m in \u001b[0;36m<module>\u001b[1;34m\u001b[0m\n\u001b[0;32m      1\u001b[0m \u001b[1;32mfor\u001b[0m \u001b[0mpred_dict\u001b[0m\u001b[1;33m,\u001b[0m \u001b[0mexpec\u001b[0m \u001b[1;32min\u001b[0m \u001b[0mzip\u001b[0m\u001b[1;33m(\u001b[0m\u001b[0mpredictions\u001b[0m\u001b[1;33m,\u001b[0m \u001b[0mexpected\u001b[0m\u001b[1;33m)\u001b[0m\u001b[1;33m:\u001b[0m\u001b[1;33m\u001b[0m\u001b[1;33m\u001b[0m\u001b[0m\n\u001b[0;32m      2\u001b[0m \u001b[1;33m\u001b[0m\u001b[0m\n\u001b[1;32m----> 3\u001b[1;33m     \u001b[0mprobability\u001b[0m \u001b[1;33m=\u001b[0m \u001b[0mpred_dict\u001b[0m\u001b[1;33m[\u001b[0m\u001b[1;34m'probabilities'\u001b[0m\u001b[1;33m]\u001b[0m\u001b[1;33m[\u001b[0m\u001b[0mclass_id\u001b[0m\u001b[1;33m]\u001b[0m\u001b[1;33m\u001b[0m\u001b[1;33m\u001b[0m\u001b[0m\n\u001b[0m\u001b[0;32m      4\u001b[0m \u001b[1;33m\u001b[0m\u001b[0m\n\u001b[0;32m      5\u001b[0m     print('Prediction is \"{}\" ({:.1f}%), expected \"{}\"'.format(\n",
      "\u001b[1;31mKeyError\u001b[0m: 'probabilities'"
     ]
    }
   ],
   "source": [
    "for pred_dict, expec in zip(predictions, expected):\n",
    "\n",
    "    probability = pred_dict['probabilities'][class_id]\n",
    "\n",
    "    print('Prediction is \"{}\" ({:.1f}%), expected \"{}\"'.format(\n",
    "        100 * probability, expec))"
   ]
  },
  {
   "cell_type": "code",
   "execution_count": 1,
   "metadata": {},
   "outputs": [
    {
     "name": "stderr",
     "output_type": "stream",
     "text": [
      "C:\\Users\\LG\\Anaconda3\\envs\\tensor\\lib\\site-packages\\pandapower\\io_utils.py:8: FutureWarning: pandas.util.testing is deprecated. Use the functions in the public API at pandas.testing instead.\n",
      "  from pandas.util.testing import assert_series_equal, assert_frame_equal\n"
     ]
    }
   ],
   "source": [
    "import pandapower"
   ]
  },
  {
   "cell_type": "code",
   "execution_count": null,
   "metadata": {},
   "outputs": [],
   "source": []
  }
 ],
 "metadata": {
  "kernelspec": {
   "display_name": "Python 3",
   "language": "python",
   "name": "python3"
  },
  "language_info": {
   "codemirror_mode": {
    "name": "ipython",
    "version": 3
   },
   "file_extension": ".py",
   "mimetype": "text/x-python",
   "name": "python",
   "nbconvert_exporter": "python",
   "pygments_lexer": "ipython3",
   "version": "3.6.7"
  }
 },
 "nbformat": 4,
 "nbformat_minor": 4
}
